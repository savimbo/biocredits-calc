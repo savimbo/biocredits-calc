{
 "cells": [
  {
   "cell_type": "markdown",
   "metadata": {},
   "source": [
    "## Testing notebook showing basic functionality"
   ]
  },
  {
   "cell_type": "code",
   "execution_count": 1,
   "metadata": {},
   "outputs": [],
   "source": [
    "import pandas as pd\n",
    "import matplotlib.pyplot as plt\n",
    "from calc_utils import kml_to_shp, load_shp, normalize_shps, shp_to_land, plot_land, observations_to_circles, expand_observations, \\\n",
    "                       daily_score_union, daily_attibution, monthly_attribution, cummulative_attribution, daily_video, create_value_lands, plot_value_lands, transform_one_row_per_value"
   ]
  },
  {
   "cell_type": "code",
   "execution_count": 2,
   "metadata": {},
   "outputs": [
    {
     "name": "stdout",
     "output_type": "stream",
     "text": [
      "########## Converting 3 ##########\n",
      "Converted 3.kml to 3.shp\n",
      "########## Converting 18 ##########\n",
      "Converted 18.kml to 18.shp\n",
      "########## Converting 9 ##########\n",
      "Converted 9.kml to 9.shp\n"
     ]
    },
    {
     "name": "stderr",
     "output_type": "stream",
     "text": [
      "Warning 6: Normalized/laundered field name: 'description' to 'descriptio'\n",
      "Warning 1: The output driver does not natively support DateTime type for field timestamp. Misconversion can happen. -mapFieldType can be used to control field type conversion.\n",
      "Warning 6: Field timestamp create as date field, though DateTime requested.\n",
      "Warning 1: The output driver does not natively support DateTime type for field begin. Misconversion can happen. -mapFieldType can be used to control field type conversion.\n",
      "Warning 6: Field begin create as date field, though DateTime requested.\n",
      "Warning 1: The output driver does not natively support DateTime type for field end. Misconversion can happen. -mapFieldType can be used to control field type conversion.\n",
      "Warning 6: Field end create as date field, though DateTime requested.\n",
      "Warning 6: Normalized/laundered field name: 'altitudeMode' to 'altitudeMo'\n",
      "ERROR 1: Attempt to write non-point (POLYGON) geometry to point shapefile.\n",
      "ERROR 1: Unable to write feature 14 from layer plot3.\n",
      "ERROR 1: Terminating translation prematurely after failed\n",
      "translation of layer plot3 (use -skipfailures to skip errors)\n",
      "Warning 6: Normalized/laundered field name: 'description' to 'descriptio'\n",
      "Warning 1: The output driver does not natively support DateTime type for field timestamp. Misconversion can happen. -mapFieldType can be used to control field type conversion.\n",
      "Warning 6: Field timestamp create as date field, though DateTime requested.\n",
      "Warning 1: The output driver does not natively support DateTime type for field begin. Misconversion can happen. -mapFieldType can be used to control field type conversion.\n",
      "Warning 6: Field begin create as date field, though DateTime requested.\n",
      "Warning 1: The output driver does not natively support DateTime type for field end. Misconversion can happen. -mapFieldType can be used to control field type conversion.\n",
      "Warning 6: Field end create as date field, though DateTime requested.\n",
      "Warning 6: Normalized/laundered field name: 'altitudeMode' to 'altitudeMo'\n",
      "ERROR 1: Attempt to write non-point (POLYGON) geometry to point shapefile.\n",
      "ERROR 1: Unable to write feature 12 from layer plot18.\n",
      "ERROR 1: Terminating translation prematurely after failed\n",
      "translation of layer plot18 (use -skipfailures to skip errors)\n",
      "Warning 6: Normalized/laundered field name: 'description' to 'descriptio'\n",
      "Warning 1: The output driver does not natively support DateTime type for field timestamp. Misconversion can happen. -mapFieldType can be used to control field type conversion.\n",
      "Warning 6: Field timestamp create as date field, though DateTime requested.\n",
      "Warning 1: The output driver does not natively support DateTime type for field begin. Misconversion can happen. -mapFieldType can be used to control field type conversion.\n",
      "Warning 6: Field begin create as date field, though DateTime requested.\n",
      "Warning 1: The output driver does not natively support DateTime type for field end. Misconversion can happen. -mapFieldType can be used to control field type conversion.\n",
      "Warning 6: Field end create as date field, though DateTime requested.\n",
      "Warning 6: Normalized/laundered field name: 'altitudeMode' to 'altitudeMo'\n",
      "ERROR 1: Attempt to write non-point (POLYGON) geometry to point shapefile.\n",
      "ERROR 1: Unable to write feature 8 from layer plot9.\n",
      "ERROR 1: Terminating translation prematurely after failed\n",
      "translation of layer plot9 (use -skipfailures to skip errors)\n"
     ]
    }
   ],
   "source": [
    "# transform plots kml to shp\n",
    "kml_to_shp(source_directory='test_data/KML/', destination_directory='test_data/SHP/', original_shp_directory=None)\n",
    "land_metadata = pd.read_csv('test_data/land_metadata.csv', dtype={'plot_id': str})"
   ]
  },
  {
   "cell_type": "code",
   "execution_count": 4,
   "metadata": {},
   "outputs": [
    {
     "name": "stdout",
     "output_type": "stream",
     "text": [
      "Geometry type Point found in plots: 18, 3, 9\n",
      "CRS found in plots: EPSG:4326: 3\n",
      "Total plots processed: 3\n",
      "You can see the map at test_plots.html\n"
     ]
    },
    {
     "data": {
      "text/html": [
       "<div>\n",
       "<style scoped>\n",
       "    .dataframe tbody tr th:only-of-type {\n",
       "        vertical-align: middle;\n",
       "    }\n",
       "\n",
       "    .dataframe tbody tr th {\n",
       "        vertical-align: top;\n",
       "    }\n",
       "\n",
       "    .dataframe thead th {\n",
       "        text-align: right;\n",
       "    }\n",
       "</style>\n",
       "<table border=\"1\" class=\"dataframe\">\n",
       "  <thead>\n",
       "    <tr style=\"text-align: right;\">\n",
       "      <th></th>\n",
       "      <th>index</th>\n",
       "      <th>total_area</th>\n",
       "      <th>plot_id</th>\n",
       "      <th>POD</th>\n",
       "      <th>project_biodiversity</th>\n",
       "      <th>area_certifier</th>\n",
       "      <th>geometry</th>\n",
       "      <th>value</th>\n",
       "    </tr>\n",
       "  </thead>\n",
       "  <tbody>\n",
       "    <tr>\n",
       "      <th>0</th>\n",
       "      <td>18</td>\n",
       "      <td>142.034201</td>\n",
       "      <td>18</td>\n",
       "      <td>VGZ</td>\n",
       "      <td>2</td>\n",
       "      <td>130.0</td>\n",
       "      <td>POLYGON Z ((-76.79334 0.87410 0.00000, -76.787...</td>\n",
       "      <td>platinum</td>\n",
       "    </tr>\n",
       "    <tr>\n",
       "      <th>1</th>\n",
       "      <td>3</td>\n",
       "      <td>64.834050</td>\n",
       "      <td>3</td>\n",
       "      <td>VGZ</td>\n",
       "      <td>2</td>\n",
       "      <td>46.5</td>\n",
       "      <td>POLYGON Z ((-76.78710 0.88356 0.00000, -76.781...</td>\n",
       "      <td>platinum</td>\n",
       "    </tr>\n",
       "    <tr>\n",
       "      <th>2</th>\n",
       "      <td>9</td>\n",
       "      <td>10.096988</td>\n",
       "      <td>9</td>\n",
       "      <td>VGZ</td>\n",
       "      <td>2</td>\n",
       "      <td>10.0</td>\n",
       "      <td>POLYGON Z ((-76.75636 0.88951 0.00000, -76.757...</td>\n",
       "      <td>platinum</td>\n",
       "    </tr>\n",
       "    <tr>\n",
       "      <th>3</th>\n",
       "      <td>9</td>\n",
       "      <td>10.096988</td>\n",
       "      <td>9</td>\n",
       "      <td>VGZ</td>\n",
       "      <td>2</td>\n",
       "      <td>10.0</td>\n",
       "      <td>POLYGON Z ((-76.75475 0.89361 0.00000, -76.754...</td>\n",
       "      <td>gold</td>\n",
       "    </tr>\n",
       "  </tbody>\n",
       "</table>\n",
       "</div>"
      ],
      "text/plain": [
       "  index  total_area plot_id  POD  project_biodiversity  area_certifier  \\\n",
       "0    18  142.034201      18  VGZ                     2           130.0   \n",
       "1     3   64.834050       3  VGZ                     2            46.5   \n",
       "2     9   10.096988       9  VGZ                     2            10.0   \n",
       "3     9   10.096988       9  VGZ                     2            10.0   \n",
       "\n",
       "                                            geometry     value  \n",
       "0  POLYGON Z ((-76.79334 0.87410 0.00000, -76.787...  platinum  \n",
       "1  POLYGON Z ((-76.78710 0.88356 0.00000, -76.781...  platinum  \n",
       "2  POLYGON Z ((-76.75636 0.88951 0.00000, -76.757...  platinum  \n",
       "3  POLYGON Z ((-76.75475 0.89361 0.00000, -76.754...      gold  "
      ]
     },
     "execution_count": 4,
     "metadata": {},
     "output_type": "execute_result"
    }
   ],
   "source": [
    "# loading shp files\n",
    "shp = load_shp('test_data/SHP/')\n",
    "# some preprocessing of shps\n",
    "normalized_shapes = normalize_shps(shp)\n",
    "plots = shp_to_land(normalized_shapes)\n",
    "plots = plots.reset_index()\n",
    "plots['plot_id'] = plots['index'].astype(str).str.zfill(3)\n",
    "plots = plots.merge(land_metadata, on='plot_id', how='left')\n",
    "\n",
    "subtypes = load_shp('credit_subtypes/SHP/')\n",
    "platinum = subtypes['Tropical Andes']['geometry'][0]\n",
    "plots, platinum_gdf = create_value_lands(plots, platinum)\n",
    "# creating html map\n",
    "plot_value_lands(plots, platinum_gdf, filename='test_plots_value.html')\n",
    "print('You can see the map at test_plots.html')\n",
    "plots.head()"
   ]
  },
  {
   "cell_type": "code",
   "execution_count": null,
   "metadata": {},
   "outputs": [],
   "source": [
    "# loading observations\n",
    "records = pd.read_csv('test_data/observations.csv')\n",
    "print('Number of test observations: ', len(records))\n",
    "records.head()"
   ]
  },
  {
   "cell_type": "code",
   "execution_count": null,
   "metadata": {},
   "outputs": [],
   "source": [
    "# from observations to circles\n",
    "# crs for observations is 4326 because it is lat/lon\n",
    "# crs for circles is 6262 because it is in meters\n",
    "records = observations_to_circles(records, default_crs=4326, buffer_crs=6262)\n",
    "records.head()"
   ]
  },
  {
   "cell_type": "code",
   "execution_count": null,
   "metadata": {},
   "outputs": [],
   "source": [
    "# each observation is \"expanded\" to the 29 days before and 30 days after the observation date\n",
    "obs_expanded = expand_observations(records)\n",
    "obs_expanded.head()"
   ]
  },
  {
   "cell_type": "code",
   "execution_count": null,
   "metadata": {},
   "outputs": [],
   "source": [
    "# the expanded observations are unioned to create a daily geometry for each score\n",
    "# this process the venn_decomposition function, which decomposes a list of scored polygons into \n",
    "# a venn-like diagram, assigning the highest score to each section and merging the equal-score sections\n",
    "daily_score = daily_score_union(obs_expanded)\n",
    "daily_score.head()"
   ]
  },
  {
   "cell_type": "code",
   "execution_count": null,
   "metadata": {},
   "outputs": [],
   "source": [
    "# just to visualize these geometries, we can pick a date and plot both scores\n",
    "date = '2023-07-01'\n",
    "print('Polygons for date: ', date)  \n",
    "print('Displayed in separate plots for each score')\n",
    "fig, ax = plt.subplots(1,2, figsize=(12,6))\n",
    "daily_score.query(f'date == \"{date}\" and score == 0.5').plot(ax=ax[0])\n",
    "daily_score.query(f'date == \"{date}\" and score ==  1').plot(ax=ax[1])\n",
    "ax[0].set_xlim([-76.85, -76.69])\n",
    "ax[0].set_ylim([0.81, 0.96])\n",
    "ax[1].set_xlim([-76.85, -76.69])\n",
    "ax[1].set_ylim([0.81, 0.96])\n",
    "ax[0].set_title('Score 0.5')\n",
    "ax[1].set_title('Score 1.0')\n",
    "daily_score.query(f'date == \"{date}\"')"
   ]
  },
  {
   "cell_type": "code",
   "execution_count": null,
   "metadata": {},
   "outputs": [],
   "source": [
    "# now we can calculate the daily attribution for each plot_id-score-date combination\n",
    "# the area_score is the area of the intersection of the score polygon and the plot polygon multiplied by the score\n",
    "attribution = daily_attibution(daily_score, plots, obs_expanded, crs=6262)\n",
    "attribution.head()"
   ]
  },
  {
   "cell_type": "code",
   "execution_count": null,
   "metadata": {},
   "outputs": [],
   "source": [
    "# now we can compute the monthly and cummulative attibution\n",
    "# the monthly attribution is the sum of the area_score for each plot_id-month combination divided by 60\n",
    "# calc_index is the plot_id-month combination\n",
    "attr_month = monthly_attribution(attribution)\n",
    "attr_cumm = cummulative_attribution(attr_month, cutdays = 30, start_date=None)\n",
    "attr_month = transform_one_row_per_value(attr_month, 'month')\n",
    "attr_cumm = transform_one_row_per_value(attr_cumm, 'cumm')\n",
    "attr_month.head()"
   ]
  },
  {
   "cell_type": "code",
   "execution_count": null,
   "metadata": {},
   "outputs": [],
   "source": [
    "attr_cumm.head()\n"
   ]
  },
  {
   "cell_type": "code",
   "execution_count": null,
   "metadata": {},
   "outputs": [],
   "source": [
    "# finally for visualization we can create a video called raindrops.mp4\n",
    "daily_video(daily_score, plots, first_date=None)"
   ]
  },
  {
   "cell_type": "code",
   "execution_count": null,
   "metadata": {},
   "outputs": [],
   "source": []
  }
 ],
 "metadata": {
  "kernelspec": {
   "display_name": "savimbo",
   "language": "python",
   "name": "python3"
  },
  "language_info": {
   "codemirror_mode": {
    "name": "ipython",
    "version": 3
   },
   "file_extension": ".py",
   "mimetype": "text/x-python",
   "name": "python",
   "nbconvert_exporter": "python",
   "pygments_lexer": "ipython3",
   "version": "3.10.12"
  }
 },
 "nbformat": 4,
 "nbformat_minor": 2
}
