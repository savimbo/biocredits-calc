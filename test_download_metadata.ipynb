{
 "cells": [
  {
   "cell_type": "markdown",
   "metadata": {},
   "source": [
    "# Test Download Metadata and Geographic Data Processing\n",
    "This notebook tests the pipeline for downloading and processing land plot data."
   ]
  },
  {
   "cell_type": "code",
   "execution_count": 1,
   "metadata": {},
   "outputs": [],
   "source": [
    "from calc_utils import download_kml_official, kml_to_shp, load_shp, normalize_shps, \\\n",
    "                      reorder_polygons, shp_to_land\n",
    "import pandas as pd\n",
    "import geopandas as gpd"
   ]
  },
  {
   "cell_type": "code",
   "execution_count": 2,
   "metadata": {},
   "outputs": [
    {
     "name": "stdout",
     "output_type": "stream",
     "text": [
      "Downloaded KML for plot_id 001\n",
      "Downloaded and extracted shapefile for plot_id 001\n",
      "Downloaded KML for plot_id 002\n",
      "Downloaded and extracted shapefile for plot_id 002\n",
      "Downloaded KML for plot_id 003\n",
      "Downloaded and extracted shapefile for plot_id 003\n",
      "Downloaded KML for plot_id 004\n",
      "Downloaded and extracted shapefile for plot_id 004\n",
      "Downloaded KML for plot_id 005\n",
      "Downloaded and extracted shapefile for plot_id 005\n",
      "Downloaded KML for plot_id 008\n",
      "Downloaded and extracted shapefile for plot_id 008\n",
      "Downloaded KML for plot_id 009\n",
      "Downloaded and extracted shapefile for plot_id 009\n",
      "Downloaded KML for plot_id 010\n",
      "Downloaded and extracted shapefile for plot_id 010\n",
      "Downloaded KML for plot_id 011\n",
      "Downloaded and extracted shapefile for plot_id 011\n",
      "Downloaded KML for plot_id 012\n",
      "Downloaded and extracted shapefile for plot_id 012\n",
      "Downloaded KML for plot_id 018\n",
      "Downloaded and extracted shapefile for plot_id 018\n",
      "Downloaded KML for plot_id 020\n",
      "Downloaded and extracted shapefile for plot_id 020\n",
      "Downloaded KML for plot_id 023\n",
      "Downloaded and extracted shapefile for plot_id 023\n",
      "Downloaded KML for plot_id 028\n",
      "Downloaded and extracted shapefile for plot_id 028\n",
      "Downloaded KML for plot_id 029\n",
      "Downloaded and extracted shapefile for plot_id 029\n",
      "Downloaded KML for plot_id 030\n",
      "Downloaded and extracted shapefile for plot_id 030\n",
      "Downloaded KML for plot_id 035\n",
      "Downloaded and extracted shapefile for plot_id 035\n",
      "Downloaded KML for plot_id 037\n",
      "Downloaded and extracted shapefile for plot_id 037\n",
      "Downloaded KML for plot_id 039\n",
      "Downloaded and extracted shapefile for plot_id 039\n",
      "Downloaded KML for plot_id 040\n",
      "Downloaded and extracted shapefile for plot_id 040\n",
      "Downloaded KML for plot_id 043\n",
      "Downloaded and extracted shapefile for plot_id 043\n",
      "Downloaded KML for plot_id 044\n",
      "Downloaded and extracted shapefile for plot_id 044\n",
      "Downloaded KML for plot_id 045\n",
      "Downloaded and extracted shapefile for plot_id 045\n",
      "Downloaded KML for plot_id 049\n",
      "Downloaded and extracted shapefile for plot_id 049\n",
      "Downloaded KML for plot_id 050\n",
      "Downloaded and extracted shapefile for plot_id 050\n",
      "Downloaded KML for plot_id 059\n",
      "Downloaded and extracted shapefile for plot_id 059\n",
      "Downloaded KML for plot_id 061\n",
      "Downloaded and extracted shapefile for plot_id 061\n",
      "Downloaded KML for plot_id 062\n",
      "Downloaded and extracted shapefile for plot_id 062\n",
      "Downloaded KML for plot_id 063\n",
      "Downloaded and extracted shapefile for plot_id 063\n",
      "Downloaded KML for plot_id 064\n",
      "Downloaded and extracted shapefile for plot_id 064\n",
      "Downloaded KML for plot_id 066\n",
      "Downloaded and extracted shapefile for plot_id 066\n",
      "Downloaded KML for plot_id 069\n",
      "Downloaded and extracted shapefile for plot_id 069\n",
      "Downloaded KML for plot_id 070\n",
      "Downloaded and extracted shapefile for plot_id 070\n",
      "Downloaded KML for plot_id 071\n",
      "Downloaded and extracted shapefile for plot_id 071\n",
      "Downloaded KML for plot_id 072\n",
      "Downloaded and extracted shapefile for plot_id 072\n",
      "Downloaded KML for plot_id 073\n",
      "Downloaded and extracted shapefile for plot_id 073\n",
      "Downloaded KML for plot_id 074\n",
      "Downloaded and extracted shapefile for plot_id 074\n",
      "Downloaded KML for plot_id 075\n",
      "Downloaded and extracted shapefile for plot_id 075\n",
      "Downloaded KML for plot_id 077\n",
      "Downloaded and extracted shapefile for plot_id 077\n",
      "Downloaded KML for plot_id 078\n",
      "Downloaded and extracted shapefile for plot_id 078\n",
      "Downloaded KML for plot_id 081\n",
      "Downloaded and extracted shapefile for plot_id 081\n",
      "Downloaded KML for plot_id 082\n",
      "Downloaded and extracted shapefile for plot_id 082\n",
      "Downloaded KML for plot_id 087\n",
      "Downloaded and extracted shapefile for plot_id 087\n",
      "Downloaded KML for plot_id 088\n",
      "Downloaded and extracted shapefile for plot_id 088\n",
      "Downloaded KML for plot_id 089\n",
      "Downloaded and extracted shapefile for plot_id 089\n",
      "Downloaded KML for plot_id 091\n",
      "Downloaded and extracted shapefile for plot_id 091\n",
      "Downloaded KML for plot_id 092\n",
      "Downloaded and extracted shapefile for plot_id 092\n",
      "Downloaded KML for plot_id 093\n",
      "Downloaded and extracted shapefile for plot_id 093\n",
      "Downloaded KML for plot_id 094\n",
      "Downloaded and extracted shapefile for plot_id 094\n",
      "Downloaded KML for plot_id 095\n",
      "Downloaded and extracted shapefile for plot_id 095\n",
      "Downloaded KML for plot_id 096\n",
      "Downloaded and extracted shapefile for plot_id 096\n",
      "Downloaded KML for plot_id 097\n",
      "Downloaded and extracted shapefile for plot_id 097\n",
      "Downloaded KML for plot_id 098\n",
      "Downloaded and extracted shapefile for plot_id 098\n",
      "Downloaded KML for plot_id 105\n",
      "Downloaded and extracted shapefile for plot_id 105\n",
      "Downloaded KML for plot_id 106\n",
      "Downloaded and extracted shapefile for plot_id 106\n",
      "Downloaded KML for plot_id 113\n",
      "Downloaded and extracted shapefile for plot_id 113\n",
      "Downloaded KML for plot_id 114\n",
      "Downloaded and extracted shapefile for plot_id 114\n",
      "Downloaded KML for plot_id 115\n",
      "Downloaded and extracted shapefile for plot_id 115\n",
      "Downloaded KML for plot_id 116\n",
      "Downloaded and extracted shapefile for plot_id 116\n",
      "Downloaded KML for plot_id 117\n",
      "Downloaded KML for plot_id 118\n",
      "Downloaded and extracted shapefile for plot_id 118\n",
      "Downloaded KML for plot_id 119\n",
      "Downloaded KML for plot_id 121\n",
      "Downloaded KML for plot_id 122\n",
      "Downloaded and extracted shapefile for plot_id 122\n",
      "Downloaded KML for plot_id 123\n",
      "Downloaded and extracted shapefile for plot_id 123\n",
      "Downloaded KML for plot_id 124\n",
      "Downloaded and extracted shapefile for plot_id 124\n",
      "Downloaded KML for plot_id 125\n",
      "Downloaded KML for plot_id 127\n",
      "Downloaded KML for plot_id 128\n",
      "Downloaded KML for plot_id 129\n",
      "Downloaded and extracted shapefile for plot_id 129\n",
      "Downloaded KML for plot_id 130\n",
      "Downloaded and extracted shapefile for plot_id 130\n",
      "Downloaded KML for plot_id 131\n",
      "Downloaded and extracted shapefile for plot_id 131\n",
      "Downloaded KML for plot_id 132\n",
      "Downloaded and extracted shapefile for plot_id 132\n",
      "Downloaded KML for plot_id 135\n",
      "Downloaded and extracted shapefile for plot_id 135\n",
      "Downloaded KML for plot_id 138\n",
      "Downloaded and extracted shapefile for plot_id 138\n",
      "Downloaded KML for plot_id 139\n",
      "Downloaded and extracted shapefile for plot_id 139\n",
      "Downloaded KML for plot_id 140\n",
      "Downloaded and extracted shapefile for plot_id 140\n",
      "Downloaded KML for plot_id 141\n",
      "Downloaded and extracted shapefile for plot_id 141\n",
      "Downloaded KML for plot_id 142\n",
      "Downloaded and extracted shapefile for plot_id 142\n",
      "Downloaded KML for plot_id 144\n",
      "Downloaded and extracted shapefile for plot_id 144\n",
      "Downloaded KML for plot_id 150\n",
      "Downloaded and extracted shapefile for plot_id 150\n",
      "Downloaded KML for plot_id 151\n",
      "Downloaded and extracted shapefile for plot_id 151\n",
      "Downloaded KML for plot_id 153\n",
      "Downloaded and extracted shapefile for plot_id 153\n",
      "Downloaded KML for plot_id 154\n",
      "Downloaded and extracted shapefile for plot_id 154\n",
      "Downloaded KML for plot_id 155\n",
      "Downloaded and extracted shapefile for plot_id 155\n",
      "Downloaded KML for plot_id 156\n",
      "Downloaded KML for plot_id 157\n",
      "Downloaded and extracted shapefile for plot_id 157\n",
      "Downloaded KML for plot_id 158\n",
      "Downloaded and extracted shapefile for plot_id 158\n",
      "Downloaded KML for plot_id 159\n",
      "Downloaded and extracted shapefile for plot_id 159\n",
      "Downloaded KML for plot_id 162\n",
      "Downloaded and extracted shapefile for plot_id 162\n",
      "Downloaded KML for plot_id 163\n",
      "Downloaded and extracted shapefile for plot_id 163\n",
      "Downloaded KML for plot_id 164\n",
      "Downloaded and extracted shapefile for plot_id 164\n",
      "Downloaded KML for plot_id 165\n",
      "Downloaded KML for plot_id 166\n",
      "Downloaded KML for plot_id 168\n",
      "Downloaded KML for plot_id 169\n",
      "Downloaded and extracted shapefile for plot_id 169\n",
      "Downloaded KML for plot_id 171\n",
      "Downloaded and extracted shapefile for plot_id 171\n",
      "Downloaded KML for plot_id 173\n",
      "Downloaded and extracted shapefile for plot_id 173\n",
      "Downloaded KML for plot_id 174\n",
      "Downloaded and extracted shapefile for plot_id 174\n",
      "Downloaded KML for plot_id 175\n",
      "Downloaded and extracted shapefile for plot_id 175\n",
      "Downloaded KML for plot_id 176\n",
      "Downloaded and extracted shapefile for plot_id 176\n",
      "Downloaded KML for plot_id 177\n",
      "Downloaded and extracted shapefile for plot_id 177\n",
      "Downloaded KML for plot_id 178\n",
      "Downloaded and extracted shapefile for plot_id 178\n",
      "Downloaded KML for plot_id 179\n",
      "Downloaded KML for plot_id 180\n",
      "Downloaded and extracted shapefile for plot_id 180\n",
      "Downloaded KML for plot_id 181\n",
      "Downloaded and extracted shapefile for plot_id 181\n",
      "Downloaded KML for plot_id 182\n",
      "Downloaded and extracted shapefile for plot_id 182\n",
      "Downloaded KML for plot_id 184\n",
      "Downloaded and extracted shapefile for plot_id 184\n",
      "Downloaded KML for plot_id 185\n",
      "Downloaded and extracted shapefile for plot_id 185\n",
      "Downloaded KML for plot_id 186\n",
      "Downloaded and extracted shapefile for plot_id 186\n",
      "Downloaded KML for plot_id 187\n",
      "Downloaded and extracted shapefile for plot_id 187\n",
      "Downloaded KML for plot_id 188\n",
      "Downloaded and extracted shapefile for plot_id 188\n",
      "Downloaded KML for plot_id 189\n",
      "Downloaded and extracted shapefile for plot_id 189\n",
      "Downloaded KML for plot_id 193\n",
      "Downloaded KML for plot_id 199\n",
      "Downloaded and extracted shapefile for plot_id 199\n",
      "Downloaded KML for plot_id 200\n",
      "Downloaded and extracted shapefile for plot_id 200\n",
      "Downloaded KML for plot_id 201\n",
      "Downloaded and extracted shapefile for plot_id 201\n",
      "Downloaded KML for plot_id 202\n",
      "Downloaded and extracted shapefile for plot_id 202\n",
      "Downloaded KML for plot_id 204\n",
      "Downloaded and extracted shapefile for plot_id 204\n",
      "Downloaded KML for plot_id 206\n",
      "Downloaded and extracted shapefile for plot_id 206\n",
      "Downloaded KML for plot_id 207\n",
      "Downloaded and extracted shapefile for plot_id 207\n",
      "Metadata shape: (121, 4)\n",
      "\n",
      "Metadata columns: ['plot_id', 'POD', 'project_biodiversity', 'area_certifier']\n",
      "\n",
      "First few rows of metadata:\n"
     ]
    },
    {
     "data": {
      "text/html": [
       "<div>\n",
       "<style scoped>\n",
       "    .dataframe tbody tr th:only-of-type {\n",
       "        vertical-align: middle;\n",
       "    }\n",
       "\n",
       "    .dataframe tbody tr th {\n",
       "        vertical-align: top;\n",
       "    }\n",
       "\n",
       "    .dataframe thead th {\n",
       "        text-align: right;\n",
       "    }\n",
       "</style>\n",
       "<table border=\"1\" class=\"dataframe\">\n",
       "  <thead>\n",
       "    <tr style=\"text-align: right;\">\n",
       "      <th></th>\n",
       "      <th>plot_id</th>\n",
       "      <th>POD</th>\n",
       "      <th>project_biodiversity</th>\n",
       "      <th>area_certifier</th>\n",
       "    </tr>\n",
       "  </thead>\n",
       "  <tbody>\n",
       "    <tr>\n",
       "      <th>0</th>\n",
       "      <td>001</td>\n",
       "      <td>VGZ</td>\n",
       "      <td></td>\n",
       "      <td>0.00</td>\n",
       "    </tr>\n",
       "    <tr>\n",
       "      <th>1</th>\n",
       "      <td>002</td>\n",
       "      <td>VGZ</td>\n",
       "      <td>2</td>\n",
       "      <td>45.00</td>\n",
       "    </tr>\n",
       "    <tr>\n",
       "      <th>2</th>\n",
       "      <td>003</td>\n",
       "      <td>VGZ</td>\n",
       "      <td>2</td>\n",
       "      <td>46.50</td>\n",
       "    </tr>\n",
       "    <tr>\n",
       "      <th>3</th>\n",
       "      <td>004</td>\n",
       "      <td>VGZ</td>\n",
       "      <td>2</td>\n",
       "      <td>45.00</td>\n",
       "    </tr>\n",
       "    <tr>\n",
       "      <th>4</th>\n",
       "      <td>005</td>\n",
       "      <td>VGZ</td>\n",
       "      <td>2</td>\n",
       "      <td>43.94</td>\n",
       "    </tr>\n",
       "  </tbody>\n",
       "</table>\n",
       "</div>"
      ],
      "text/plain": [
       "  plot_id  POD project_biodiversity  area_certifier\n",
       "0     001  VGZ                                 0.00\n",
       "1     002  VGZ                    2           45.00\n",
       "2     003  VGZ                    2           46.50\n",
       "3     004  VGZ                    2           45.00\n",
       "4     005  VGZ                    2           43.94"
      ]
     },
     "metadata": {},
     "output_type": "display_data"
    }
   ],
   "source": [
    "# Download KMLs and metadata\n",
    "land_metadata = download_kml_official()\n",
    "\n",
    "# Display the metadata\n",
    "print(\"Metadata shape:\", land_metadata.shape)\n",
    "print(\"\\nMetadata columns:\", land_metadata.columns.tolist())\n",
    "print(\"\\nFirst few rows of metadata:\")\n",
    "display(land_metadata.head())"
   ]
  },
  {
   "cell_type": "code",
   "execution_count": 3,
   "metadata": {},
   "outputs": [
    {
     "name": "stdout",
     "output_type": "stream",
     "text": [
      "Moved original shapefile for plot_id 135\n",
      "Moved original shapefile for plot_id 132\n",
      "Moved original shapefile for plot_id 157\n",
      "Moved original shapefile for plot_id 150\n",
      "Moved original shapefile for plot_id 159\n",
      "Moved original shapefile for plot_id 105\n",
      "Moved original shapefile for plot_id 158\n",
      "Moved original shapefile for plot_id 151\n",
      "Moved original shapefile for plot_id 169\n",
      "Moved original shapefile for plot_id 023\n",
      "Moved original shapefile for plot_id 012\n",
      "Moved original shapefile for plot_id 077\n",
      "Moved original shapefile for plot_id 070\n",
      "Moved original shapefile for plot_id 071\n",
      "Moved original shapefile for plot_id 049\n",
      "Moved original shapefile for plot_id 082\n",
      "Moved original shapefile for plot_id 040\n",
      "Moved original shapefile for plot_id 078\n",
      "Moved original shapefile for plot_id 091\n",
      "Moved original shapefile for plot_id 096\n",
      "Moved original shapefile for plot_id 062\n",
      "Moved original shapefile for plot_id 098\n",
      "Moved original shapefile for plot_id 009\n",
      "Moved original shapefile for plot_id 204\n",
      "Moved original shapefile for plot_id 063\n",
      "Moved original shapefile for plot_id 097\n",
      "Moved original shapefile for plot_id 064\n",
      "Moved original shapefile for plot_id 202\n",
      "Moved original shapefile for plot_id 030\n",
      "Moved original shapefile for plot_id 008\n",
      "Moved original shapefile for plot_id 037\n",
      "Moved original shapefile for plot_id 001\n",
      "Moved original shapefile for plot_id 039\n",
      "Moved original shapefile for plot_id 174\n",
      "Moved original shapefile for plot_id 180\n",
      "Moved original shapefile for plot_id 187\n",
      "Moved original shapefile for plot_id 173\n",
      "Moved original shapefile for plot_id 142\n",
      "Moved original shapefile for plot_id 189\n",
      "Moved original shapefile for plot_id 129\n",
      "Moved original shapefile for plot_id 116\n",
      "Moved original shapefile for plot_id 118\n",
      "Moved original shapefile for plot_id 188\n",
      "Moved original shapefile for plot_id 144\n",
      "Moved original shapefile for plot_id 186\n",
      "Moved original shapefile for plot_id 181\n",
      "Moved original shapefile for plot_id 175\n",
      "Moved original shapefile for plot_id 153\n",
      "Moved original shapefile for plot_id 154\n",
      "Moved original shapefile for plot_id 162\n",
      "Moved original shapefile for plot_id 131\n",
      "Moved original shapefile for plot_id 138\n",
      "Moved original shapefile for plot_id 164\n",
      "Moved original shapefile for plot_id 163\n",
      "Moved original shapefile for plot_id 155\n",
      "Moved original shapefile for plot_id 199\n",
      "Moved original shapefile for plot_id 106\n",
      "Moved original shapefile for plot_id 139\n",
      "Moved original shapefile for plot_id 130\n",
      "Moved original shapefile for plot_id 089\n",
      "Moved original shapefile for plot_id 045\n",
      "Moved original shapefile for plot_id 087\n",
      "Moved original shapefile for plot_id 073\n",
      "Moved original shapefile for plot_id 074\n",
      "Moved original shapefile for plot_id 020\n",
      "Moved original shapefile for plot_id 018\n",
      "Moved original shapefile for plot_id 011\n",
      "Moved original shapefile for plot_id 029\n",
      "Moved original shapefile for plot_id 081\n",
      "Moved original shapefile for plot_id 075\n",
      "Moved original shapefile for plot_id 072\n",
      "Moved original shapefile for plot_id 044\n",
      "Moved original shapefile for plot_id 088\n",
      "Moved original shapefile for plot_id 043\n",
      "Moved original shapefile for plot_id 028\n",
      "Moved original shapefile for plot_id 010\n",
      "Moved original shapefile for plot_id 003\n",
      "Moved original shapefile for plot_id 004\n",
      "Moved original shapefile for plot_id 200\n",
      "Moved original shapefile for plot_id 035\n",
      "Moved original shapefile for plot_id 207\n",
      "Moved original shapefile for plot_id 095\n",
      "Moved original shapefile for plot_id 061\n",
      "Moved original shapefile for plot_id 066\n",
      "Moved original shapefile for plot_id 092\n",
      "Moved original shapefile for plot_id 059\n",
      "Moved original shapefile for plot_id 050\n",
      "Moved original shapefile for plot_id 206\n",
      "Moved original shapefile for plot_id 201\n",
      "Moved original shapefile for plot_id 005\n",
      "Moved original shapefile for plot_id 002\n",
      "Moved original shapefile for plot_id 069\n",
      "Moved original shapefile for plot_id 093\n",
      "Moved original shapefile for plot_id 094\n",
      "Moved original shapefile for plot_id 115\n",
      "Moved original shapefile for plot_id 123\n",
      "Moved original shapefile for plot_id 124\n",
      "Moved original shapefile for plot_id 184\n",
      "Moved original shapefile for plot_id 177\n",
      "Moved original shapefile for plot_id 141\n",
      "Moved original shapefile for plot_id 122\n",
      "Moved original shapefile for plot_id 114\n",
      "Moved original shapefile for plot_id 113\n",
      "Moved original shapefile for plot_id 178\n",
      "Moved original shapefile for plot_id 140\n",
      "Moved original shapefile for plot_id 182\n",
      "Moved original shapefile for plot_id 176\n",
      "Moved original shapefile for plot_id 171\n",
      "Moved original shapefile for plot_id 185\n",
      "Skipping KML conversion for 187 - original shapefile exists\n",
      "########## Converting 193 ##########\n"
     ]
    },
    {
     "name": "stderr",
     "output_type": "stream",
     "text": [
      "Warning 6: Normalized/laundered field name: 'description' to 'descriptio'\n",
      "Warning 1: The output driver does not natively support DateTime type for field timestamp. Misconversion can happen. -mapFieldType can be used to control field type conversion.\n",
      "Warning 6: Field timestamp create as date field, though DateTime requested.\n",
      "Warning 1: The output driver does not natively support DateTime type for field begin. Misconversion can happen. -mapFieldType can be used to control field type conversion.\n",
      "Warning 6: Field begin create as date field, though DateTime requested.\n",
      "Warning 1: The output driver does not natively support DateTime type for field end. Misconversion can happen. -mapFieldType can be used to control field type conversion.\n",
      "Warning 6: Field end create as date field, though DateTime requested.\n",
      "Warning 6: Normalized/laundered field name: 'altitudeMode' to 'altitudeMo'\n",
      "ERROR 1: Attempt to write non-point (POLYGON) geometry to point shapefile.\n",
      "ERROR 1: Unable to write feature 32 from layer Parcela #193 - Alfonso Ayala.\n",
      "ERROR 1: Terminating translation prematurely after failed\n",
      "translation of layer Parcela #193 - Alfonso Ayala (use -skipfailures to skip errors)\n",
      "Warning 6: Normalized/laundered field name: 'description' to 'descriptio'\n",
      "Warning 1: The output driver does not natively support DateTime type for field timestamp. Misconversion can happen. -mapFieldType can be used to control field type conversion.\n",
      "Warning 6: Field timestamp create as date field, though DateTime requested.\n",
      "Warning 1: The output driver does not natively support DateTime type for field begin. Misconversion can happen. -mapFieldType can be used to control field type conversion.\n",
      "Warning 6: Field begin create as date field, though DateTime requested.\n",
      "Warning 1: The output driver does not natively support DateTime type for field end. Misconversion can happen. -mapFieldType can be used to control field type conversion.\n",
      "Warning 6: Field end create as date field, though DateTime requested.\n",
      "Warning 6: Normalized/laundered field name: 'altitudeMode' to 'altitudeMo'\n",
      "ERROR 1: Attempt to write non-point (POLYGON) geometry to point shapefile.\n",
      "ERROR 1: Unable to write feature 76 from layer Plot #179 - Cofan - L20231020.\n",
      "ERROR 1: Terminating translation prematurely after failed\n",
      "translation of layer Plot #179 - Cofan - L20231020 (use -skipfailures to skip errors)\n",
      "Warning 6: Normalized/laundered field name: 'description' to 'descriptio'\n",
      "Warning 1: The output driver does not natively support DateTime type for field timestamp. Misconversion can happen. -mapFieldType can be used to control field type conversion.\n",
      "Warning 6: Field timestamp create as date field, though DateTime requested.\n",
      "Warning 1: The output driver does not natively support DateTime type for field begin. Misconversion can happen. -mapFieldType can be used to control field type conversion.\n",
      "Warning 6: Field begin create as date field, though DateTime requested.\n",
      "Warning 1: The output driver does not natively support DateTime type for field end. Misconversion can happen. -mapFieldType can be used to control field type conversion.\n",
      "Warning 6: Field end create as date field, though DateTime requested.\n",
      "Warning 6: Normalized/laundered field name: 'altitudeMode' to 'altitudeMo'\n",
      "ERROR 1: Attempt to write non-point (POLYGON) geometry to point shapefile.\n",
      "ERROR 1: Unable to write feature 22 from layer Parcela #156 - Gerardo Yaqueno.\n",
      "ERROR 1: Terminating translation prematurely after failed\n",
      "translation of layer Parcela #156 - Gerardo Yaqueno (use -skipfailures to skip errors)\n",
      "Warning 6: Normalized/laundered field name: 'description' to 'descriptio'\n",
      "Warning 1: The output driver does not natively support DateTime type for field timestamp. Misconversion can happen. -mapFieldType can be used to control field type conversion.\n",
      "Warning 6: Field timestamp create as date field, though DateTime requested.\n",
      "Warning 1: The output driver does not natively support DateTime type for field begin. Misconversion can happen. -mapFieldType can be used to control field type conversion.\n",
      "Warning 6: Field begin create as date field, though DateTime requested.\n",
      "Warning 1: The output driver does not natively support DateTime type for field end. Misconversion can happen. -mapFieldType can be used to control field type conversion.\n",
      "Warning 6: Field end create as date field, though DateTime requested.\n",
      "Warning 6: Normalized/laundered field name: 'altitudeMode' to 'altitudeMo'\n",
      "ERROR 1: Attempt to write non-point (POLYGON) geometry to point shapefile.\n",
      "ERROR 1: Unable to write feature 14 from layer Parcela #168 - Asdrubal Ocampo.\n",
      "ERROR 1: Terminating translation prematurely after failed\n",
      "translation of layer Parcela #168 - Asdrubal Ocampo (use -skipfailures to skip errors)\n",
      "Warning 6: Normalized/laundered field name: 'description' to 'descriptio'\n",
      "Warning 1: The output driver does not natively support DateTime type for field timestamp. Misconversion can happen. -mapFieldType can be used to control field type conversion.\n",
      "Warning 6: Field timestamp create as date field, though DateTime requested.\n",
      "Warning 1: The output driver does not natively support DateTime type for field begin. Misconversion can happen. -mapFieldType can be used to control field type conversion.\n",
      "Warning 6: Field begin create as date field, though DateTime requested.\n",
      "Warning 1: The output driver does not natively support DateTime type for field end. Misconversion can happen. -mapFieldType can be used to control field type conversion.\n",
      "Warning 6: Field end create as date field, though DateTime requested.\n",
      "Warning 6: Normalized/laundered field name: 'altitudeMode' to 'altitudeMo'\n",
      "ERROR 1: Attempt to write non-point (POLYGON) geometry to point shapefile.\n",
      "ERROR 1: Unable to write feature 17 from layer Parcela #127 - Edilma Rosero.\n",
      "ERROR 1: Terminating translation prematurely after failed\n",
      "translation of layer Parcela #127 - Edilma Rosero (use -skipfailures to skip errors)\n",
      "Warning 6: Normalized/laundered field name: 'description' to 'descriptio'\n",
      "Warning 1: The output driver does not natively support DateTime type for field timestamp. Misconversion can happen. -mapFieldType can be used to control field type conversion.\n",
      "Warning 6: Field timestamp create as date field, though DateTime requested.\n",
      "Warning 1: The output driver does not natively support DateTime type for field begin. Misconversion can happen. -mapFieldType can be used to control field type conversion.\n",
      "Warning 6: Field begin create as date field, though DateTime requested.\n",
      "Warning 1: The output driver does not natively support DateTime type for field end. Misconversion can happen. -mapFieldType can be used to control field type conversion.\n",
      "Warning 6: Field end create as date field, though DateTime requested.\n",
      "Warning 6: Normalized/laundered field name: 'altitudeMode' to 'altitudeMo'\n",
      "ERROR 1: Attempt to write non-point (POLYGON) geometry to point shapefile.\n",
      "ERROR 1: Unable to write feature 13 from layer Parcela #125  - Elisa Romero.\n",
      "ERROR 1: Terminating translation prematurely after failed\n",
      "translation of layer Parcela #125  - Elisa Romero (use -skipfailures to skip errors)\n"
     ]
    },
    {
     "name": "stdout",
     "output_type": "stream",
     "text": [
      "Converted 193.kml to 193.shp\n",
      "Skipping KML conversion for 178 - original shapefile exists\n",
      "Skipping KML conversion for 144 - original shapefile exists\n",
      "Skipping KML conversion for 150 - original shapefile exists\n",
      "Skipping KML conversion for 018 - original shapefile exists\n",
      "Skipping KML conversion for 030 - original shapefile exists\n",
      "Skipping KML conversion for 151 - original shapefile exists\n",
      "########## Converting 179 ##########\n",
      "Converted 179.kml to 179.shp\n",
      "Skipping KML conversion for 186 - original shapefile exists\n",
      "Skipping KML conversion for 184 - original shapefile exists\n",
      "Skipping KML conversion for 153 - original shapefile exists\n",
      "Skipping KML conversion for 185 - original shapefile exists\n",
      "Skipping KML conversion for 181 - original shapefile exists\n",
      "########## Converting 156 ##########\n",
      "Converted 156.kml to 156.shp\n",
      "Skipping KML conversion for 142 - original shapefile exists\n",
      "Skipping KML conversion for 037 - original shapefile exists\n",
      "Skipping KML conversion for 023 - original shapefile exists\n",
      "Skipping KML conversion for 157 - original shapefile exists\n",
      "Skipping KML conversion for 180 - original shapefile exists\n",
      "Skipping KML conversion for 182 - original shapefile exists\n",
      "Skipping KML conversion for 141 - original shapefile exists\n",
      "Skipping KML conversion for 155 - original shapefile exists\n",
      "Skipping KML conversion for 169 - original shapefile exists\n",
      "Skipping KML conversion for 035 - original shapefile exists\n",
      "Skipping KML conversion for 009 - original shapefile exists\n",
      "Skipping KML conversion for 008 - original shapefile exists\n",
      "Skipping KML conversion for 020 - original shapefile exists\n",
      "########## Converting 168 ##########\n",
      "Converted 168.kml to 168.shp\n",
      "Skipping KML conversion for 154 - original shapefile exists\n",
      "Skipping KML conversion for 140 - original shapefile exists\n",
      "########## Converting 127 ##########\n",
      "Converted 127.kml to 127.shp\n",
      "Skipping KML conversion for 091 - original shapefile exists\n",
      "Skipping KML conversion for 132 - original shapefile exists\n",
      "Skipping KML conversion for 118 - original shapefile exists\n",
      "Skipping KML conversion for 130 - original shapefile exists\n",
      "Skipping KML conversion for 124 - original shapefile exists\n",
      "Skipping KML conversion for 087 - original shapefile exists\n",
      "Skipping KML conversion for 093 - original shapefile exists\n",
      "Skipping KML conversion for 078 - original shapefile exists\n",
      "Skipping KML conversion for 044 - original shapefile exists\n",
      "Skipping KML conversion for 050 - original shapefile exists\n",
      "Skipping KML conversion for 045 - original shapefile exists\n",
      "Skipping KML conversion for 092 - original shapefile exists\n",
      "########## Converting 125 ##########\n",
      "Converted 125.kml to 125.shp\n",
      "Skipping KML conversion for 131 - original shapefile exists\n",
      "########## Converting 119 ##########\n"
     ]
    },
    {
     "name": "stderr",
     "output_type": "stream",
     "text": [
      "Warning 6: Normalized/laundered field name: 'description' to 'descriptio'\n",
      "Warning 1: The output driver does not natively support DateTime type for field timestamp. Misconversion can happen. -mapFieldType can be used to control field type conversion.\n",
      "Warning 6: Field timestamp create as date field, though DateTime requested.\n",
      "Warning 1: The output driver does not natively support DateTime type for field begin. Misconversion can happen. -mapFieldType can be used to control field type conversion.\n",
      "Warning 6: Field begin create as date field, though DateTime requested.\n",
      "Warning 1: The output driver does not natively support DateTime type for field end. Misconversion can happen. -mapFieldType can be used to control field type conversion.\n",
      "Warning 6: Field end create as date field, though DateTime requested.\n",
      "Warning 6: Normalized/laundered field name: 'altitudeMode' to 'altitudeMo'\n",
      "ERROR 1: Attempt to write non-point (POLYGON) geometry to point shapefile.\n",
      "ERROR 1: Unable to write feature 15 from layer Parcela  #119 - Ivan Guanga.\n",
      "ERROR 1: Terminating translation prematurely after failed\n",
      "translation of layer Parcela  #119 - Ivan Guanga (use -skipfailures to skip errors)\n",
      "Warning 6: Normalized/laundered field name: 'description' to 'descriptio'\n",
      "Warning 1: The output driver does not natively support DateTime type for field timestamp. Misconversion can happen. -mapFieldType can be used to control field type conversion.\n",
      "Warning 6: Field timestamp create as date field, though DateTime requested.\n",
      "Warning 1: The output driver does not natively support DateTime type for field begin. Misconversion can happen. -mapFieldType can be used to control field type conversion.\n",
      "Warning 6: Field begin create as date field, though DateTime requested.\n",
      "Warning 1: The output driver does not natively support DateTime type for field end. Misconversion can happen. -mapFieldType can be used to control field type conversion.\n",
      "Warning 6: Field end create as date field, though DateTime requested.\n",
      "Warning 6: Normalized/laundered field name: 'altitudeMode' to 'altitudeMo'\n",
      "ERROR 1: Attempt to write non-point (POLYGON) geometry to point shapefile.\n",
      "ERROR 1: Unable to write feature 7 from layer *Parcela #121 - Cecilia Urbano.\n",
      "ERROR 1: Terminating translation prematurely after failed\n",
      "translation of layer *Parcela #121 - Cecilia Urbano (use -skipfailures to skip errors)\n",
      "Warning 6: Normalized/laundered field name: 'description' to 'descriptio'\n",
      "Warning 1: The output driver does not natively support DateTime type for field timestamp. Misconversion can happen. -mapFieldType can be used to control field type conversion.\n",
      "Warning 6: Field timestamp create as date field, though DateTime requested.\n",
      "Warning 1: The output driver does not natively support DateTime type for field begin. Misconversion can happen. -mapFieldType can be used to control field type conversion.\n",
      "Warning 6: Field begin create as date field, though DateTime requested.\n",
      "Warning 1: The output driver does not natively support DateTime type for field end. Misconversion can happen. -mapFieldType can be used to control field type conversion.\n",
      "Warning 6: Field end create as date field, though DateTime requested.\n",
      "Warning 6: Normalized/laundered field name: 'altitudeMode' to 'altitudeMo'\n",
      "ERROR 1: Attempt to write non-polygon (POINT) geometry to POLYGON type shapefile.\n",
      "ERROR 1: Unable to write feature 2 from layer *Parcela #128 - Clara Roman.\n",
      "ERROR 1: Terminating translation prematurely after failed\n",
      "translation of layer *Parcela #128 - Clara Roman (use -skipfailures to skip errors)\n",
      "Warning 6: Normalized/laundered field name: 'description' to 'descriptio'\n",
      "Warning 1: The output driver does not natively support DateTime type for field timestamp. Misconversion can happen. -mapFieldType can be used to control field type conversion.\n",
      "Warning 6: Field timestamp create as date field, though DateTime requested.\n",
      "Warning 1: The output driver does not natively support DateTime type for field begin. Misconversion can happen. -mapFieldType can be used to control field type conversion.\n",
      "Warning 6: Field begin create as date field, though DateTime requested.\n",
      "Warning 1: The output driver does not natively support DateTime type for field end. Misconversion can happen. -mapFieldType can be used to control field type conversion.\n",
      "Warning 6: Field end create as date field, though DateTime requested.\n",
      "Warning 6: Normalized/laundered field name: 'altitudeMode' to 'altitudeMo'\n",
      "ERROR 1: Attempt to write non-point (POLYGON) geometry to point shapefile.\n",
      "ERROR 1: Unable to write feature 7 from layer Finca #117 - Jaison Guanga.\n",
      "ERROR 1: Terminating translation prematurely after failed\n",
      "translation of layer Finca #117 - Jaison Guanga (use -skipfailures to skip errors)\n",
      "Warning 6: Normalized/laundered field name: 'description' to 'descriptio'\n",
      "Warning 1: The output driver does not natively support DateTime type for field timestamp. Misconversion can happen. -mapFieldType can be used to control field type conversion.\n",
      "Warning 6: Field timestamp create as date field, though DateTime requested.\n",
      "Warning 1: The output driver does not natively support DateTime type for field begin. Misconversion can happen. -mapFieldType can be used to control field type conversion.\n",
      "Warning 6: Field begin create as date field, though DateTime requested.\n",
      "Warning 1: The output driver does not natively support DateTime type for field end. Misconversion can happen. -mapFieldType can be used to control field type conversion.\n",
      "Warning 6: Field end create as date field, though DateTime requested.\n",
      "Warning 6: Normalized/laundered field name: 'altitudeMode' to 'altitudeMo'\n",
      "ERROR 1: Attempt to write non-point (POLYGON) geometry to point shapefile.\n",
      "ERROR 1: Unable to write feature 15 from layer Parcela #165 - Ilda Jamauca..\n",
      "ERROR 1: Terminating translation prematurely after failed\n",
      "translation of layer Parcela #165 - Ilda Jamauca. (use -skipfailures to skip errors)\n",
      "Warning 6: Normalized/laundered field name: 'description' to 'descriptio'\n",
      "Warning 1: The output driver does not natively support DateTime type for field timestamp. Misconversion can happen. -mapFieldType can be used to control field type conversion.\n",
      "Warning 6: Field timestamp create as date field, though DateTime requested.\n",
      "Warning 1: The output driver does not natively support DateTime type for field begin. Misconversion can happen. -mapFieldType can be used to control field type conversion.\n",
      "Warning 6: Field begin create as date field, though DateTime requested.\n",
      "Warning 1: The output driver does not natively support DateTime type for field end. Misconversion can happen. -mapFieldType can be used to control field type conversion.\n",
      "Warning 6: Field end create as date field, though DateTime requested.\n",
      "Warning 6: Normalized/laundered field name: 'altitudeMode' to 'altitudeMo'\n",
      "ERROR 1: Attempt to write non-point (POLYGON) geometry to point shapefile.\n",
      "ERROR 1: Unable to write feature 16 from layer Parcela #166 - Ilda Jamauca..\n",
      "ERROR 1: Terminating translation prematurely after failed\n",
      "translation of layer Parcela #166 - Ilda Jamauca. (use -skipfailures to skip errors)\n"
     ]
    },
    {
     "name": "stdout",
     "output_type": "stream",
     "text": [
      "Converted 119.kml to 119.shp\n",
      "Skipping KML conversion for 135 - original shapefile exists\n",
      "########## Converting 121 ##########\n",
      "Converted 121.kml to 121.shp\n",
      "Skipping KML conversion for 082 - original shapefile exists\n",
      "Skipping KML conversion for 096 - original shapefile exists\n",
      "Skipping KML conversion for 069 - original shapefile exists\n",
      "Skipping KML conversion for 040 - original shapefile exists\n",
      "Skipping KML conversion for 097 - original shapefile exists\n",
      "Skipping KML conversion for 122 - original shapefile exists\n",
      "Skipping KML conversion for 095 - original shapefile exists\n",
      "Skipping KML conversion for 081 - original shapefile exists\n",
      "Skipping KML conversion for 043 - original shapefile exists\n",
      "Skipping KML conversion for 094 - original shapefile exists\n",
      "Skipping KML conversion for 123 - original shapefile exists\n",
      "Skipping KML conversion for 106 - original shapefile exists\n",
      "Skipping KML conversion for 072 - original shapefile exists\n",
      "Skipping KML conversion for 066 - original shapefile exists\n",
      "Skipping KML conversion for 073 - original shapefile exists\n",
      "Skipping KML conversion for 098 - original shapefile exists\n",
      "Skipping KML conversion for 113 - original shapefile exists\n",
      "Skipping KML conversion for 139 - original shapefile exists\n",
      "Skipping KML conversion for 105 - original shapefile exists\n",
      "Skipping KML conversion for 059 - original shapefile exists\n",
      "Skipping KML conversion for 071 - original shapefile exists\n",
      "Skipping KML conversion for 070 - original shapefile exists\n",
      "Skipping KML conversion for 064 - original shapefile exists\n",
      "Skipping KML conversion for 138 - original shapefile exists\n",
      "Skipping KML conversion for 114 - original shapefile exists\n",
      "########## Converting 128 ##########\n",
      "Converted 128.kml to 128.shp\n",
      "Skipping KML conversion for 074 - original shapefile exists\n",
      "Skipping KML conversion for 049 - original shapefile exists\n",
      "Skipping KML conversion for 075 - original shapefile exists\n",
      "Skipping KML conversion for 061 - original shapefile exists\n",
      "Skipping KML conversion for 129 - original shapefile exists\n",
      "Skipping KML conversion for 115 - original shapefile exists\n",
      "########## Converting 117 ##########\n",
      "Converted 117.kml to 117.shp\n",
      "Skipping KML conversion for 088 - original shapefile exists\n",
      "Skipping KML conversion for 077 - original shapefile exists\n",
      "Skipping KML conversion for 063 - original shapefile exists\n",
      "Skipping KML conversion for 062 - original shapefile exists\n",
      "Skipping KML conversion for 089 - original shapefile exists\n",
      "Skipping KML conversion for 116 - original shapefile exists\n",
      "Skipping KML conversion for 159 - original shapefile exists\n",
      "########## Converting 165 ##########\n",
      "Converted 165.kml to 165.shp\n",
      "Skipping KML conversion for 171 - original shapefile exists\n",
      "Skipping KML conversion for 207 - original shapefile exists\n",
      "Skipping KML conversion for 039 - original shapefile exists\n",
      "Skipping KML conversion for 011 - original shapefile exists\n",
      "Skipping KML conversion for 005 - original shapefile exists\n",
      "Skipping KML conversion for 004 - original shapefile exists\n",
      "Skipping KML conversion for 010 - original shapefile exists\n",
      "Skipping KML conversion for 206 - original shapefile exists\n",
      "Skipping KML conversion for 164 - original shapefile exists\n",
      "Skipping KML conversion for 158 - original shapefile exists\n",
      "Skipping KML conversion for 199 - original shapefile exists\n",
      "########## Converting 166 ##########\n",
      "Converted 166.kml to 166.shp\n",
      "Skipping KML conversion for 204 - original shapefile exists\n",
      "Skipping KML conversion for 012 - original shapefile exists\n",
      "Skipping KML conversion for 173 - original shapefile exists\n",
      "Skipping KML conversion for 188 - original shapefile exists\n",
      "Skipping KML conversion for 177 - original shapefile exists\n",
      "Skipping KML conversion for 163 - original shapefile exists\n",
      "Skipping KML conversion for 201 - original shapefile exists\n",
      "Skipping KML conversion for 003 - original shapefile exists\n",
      "Skipping KML conversion for 002 - original shapefile exists\n",
      "Skipping KML conversion for 200 - original shapefile exists\n",
      "Skipping KML conversion for 162 - original shapefile exists\n",
      "Skipping KML conversion for 176 - original shapefile exists\n",
      "Skipping KML conversion for 189 - original shapefile exists\n",
      "Skipping KML conversion for 174 - original shapefile exists\n",
      "Skipping KML conversion for 202 - original shapefile exists\n",
      "Skipping KML conversion for 028 - original shapefile exists\n",
      "Skipping KML conversion for 029 - original shapefile exists\n",
      "Skipping KML conversion for 001 - original shapefile exists\n",
      "Skipping KML conversion for 175 - original shapefile exists\n",
      "########## Converting Tropical Andes ##########\n",
      "Converted Tropical Andes.kml to Tropical Andes.shp\n"
     ]
    },
    {
     "name": "stderr",
     "output_type": "stream",
     "text": [
      "Warning 6: Normalized/laundered field name: 'description' to 'descriptio'\n",
      "Warning 1: The output driver does not natively support DateTime type for field timestamp. Misconversion can happen. -mapFieldType can be used to control field type conversion.\n",
      "Warning 6: Field timestamp create as date field, though DateTime requested.\n",
      "Warning 1: The output driver does not natively support DateTime type for field begin. Misconversion can happen. -mapFieldType can be used to control field type conversion.\n",
      "Warning 6: Field begin create as date field, though DateTime requested.\n",
      "Warning 1: The output driver does not natively support DateTime type for field end. Misconversion can happen. -mapFieldType can be used to control field type conversion.\n",
      "Warning 6: Field end create as date field, though DateTime requested.\n",
      "Warning 6: Normalized/laundered field name: 'altitudeMode' to 'altitudeMo'\n"
     ]
    }
   ],
   "source": [
    "kml_to_shp(source_directory='KML/', destination_directory='SHP/', original_shp_directory='SHPoriginal/')\n",
    "kml_to_shp(source_directory='credit_subtypes/KML/', destination_directory='credit_subtypes/SHP/', original_shp_directory=None)"
   ]
  },
  {
   "cell_type": "code",
   "execution_count": 4,
   "metadata": {},
   "outputs": [],
   "source": [
    "shp = load_shp('SHP/')\n",
    "# all columns as strings\n",
    "land_metadata = pd.read_csv('land_metadata.csv', dtype=str)"
   ]
  },
  {
   "cell_type": "code",
   "execution_count": 5,
   "metadata": {},
   "outputs": [
    {
     "name": "stdout",
     "output_type": "stream",
     "text": [
      "Geometry type Polygon found in plots: 001, 002, 003, 004, 005, 008, 009, 010, 011, 012, 018, 020, 023, 028, 029, 030, 035, 037, 039, 040, 043, 044, 045, 049, 050, 059, 061, 062, 063, 064, 069, 070, 071, 072, 073, 074, 075, 077, 078, 081, 082, 087, 088, 089, 091, 092, 093, 094, 095, 096, 097, 098, 105, 106, 113, 114, 115, 116, 118, 122, 123, 124, 128, 129, 130, 131, 132, 135, 138, 139, 140, 141, 142, 144, 150, 151, 153, 154, 155, 157, 158, 159, 162, 163, 164, 169, 171, 173, 174, 175, 176, 177, 178, 180, 181, 182, 184, 185, 186, 187, 188, 189, 199, 200, 201, 202, 204, 206, 207\n",
      "Geometry type LineString found in plots: 066\n",
      "Geometry type Point found in plots: 117, 119, 121, 125, 127, 156, 165, 166, 168, 179, 193\n",
      "CRS found in plots: PROJCS[\"MAGNA-SIRGAS_CMT12\",GEOGCS[\"MAGNA-SIRGAS\",DATUM[\"Marco_Geocentrico_Nacional_de_Referencia\",SPHEROID[\"GRS 1980\",6378137,298.257222101,AUTHORITY[\"EPSG\",\"7019\"]],AUTHORITY[\"EPSG\",\"6686\"]],PRIMEM[\"Greenwich\",0,AUTHORITY[\"EPSG\",\"8901\"]],UNIT[\"degree\",0.0174532925199433,AUTHORITY[\"EPSG\",\"9122\"]],AUTHORITY[\"EPSG\",\"4686\"]],PROJECTION[\"Transverse_Mercator\"],PARAMETER[\"latitude_of_origin\",4],PARAMETER[\"central_meridian\",-73],PARAMETER[\"scale_factor\",0.9992],PARAMETER[\"false_easting\",5000000],PARAMETER[\"false_northing\",2000000],UNIT[\"metre\",1,AUTHORITY[\"EPSG\",\"9001\"]],AXIS[\"Easting\",EAST],AXIS[\"Northing\",NORTH],AUTHORITY[\"ESRI\",\"103599\"]]: 108, EPSG:4326: 12, EPSG:32618: 1\n",
      "Total plots processed: 121\n"
     ]
    }
   ],
   "source": [
    "normalized_shapes = normalize_shps(shp)\n",
    "gdf_normalized = shp_to_land(normalized_shapes)\n",
    "\n",
    "# Merge metadata with the geographic data\n",
    "gdf_normalized = gdf_normalized.reset_index()\n",
    "gdf_normalized['plot_id'] = gdf_normalized['index'].astype(str).str.zfill(3)\n",
    "lands = gdf_normalized.merge(land_metadata, on='plot_id', how='left')\n",
    "    "
   ]
  },
  {
   "cell_type": "code",
   "execution_count": 6,
   "metadata": {},
   "outputs": [],
   "source": [
    "from calc_utils import create_value_lands\n",
    "subtypes = load_shp('credit_subtypes/SHP/')\n",
    "platinum = subtypes['Tropical Andes']['geometry'][0]\n",
    "value_lands, platinum_gdf = create_value_lands(lands, platinum)"
   ]
  },
  {
   "cell_type": "code",
   "execution_count": 7,
   "metadata": {},
   "outputs": [
    {
     "name": "stdout",
     "output_type": "stream",
     "text": [
      "{'platinum': 63, 'gold': 49, 'platinum & gold': 9}\n"
     ]
    }
   ],
   "source": [
    "from calc_utils import insert_log_entry, upload_to_gcs, insert_gdf_to_airtable, download_observations, observations_to_circles, daily_score_union, expand_observations\n",
    "value_counts = value_lands.groupby('plot_id').agg({'value':'unique'})\n",
    "value_counts['value_str'] = value_counts['value'].apply(lambda v: ' & '.join(v))\n",
    "print(value_counts['value_str'].value_counts().to_dict())\n",
    "\n",
    "records = download_observations()\n",
    "records = observations_to_circles(records, default_crs=4326, buffer_crs=6262)\n",
    "\n",
    "obs_expanded = expand_observations(records)\n",
    "daily_score = daily_score_union(obs_expanded)"
   ]
  },
  {
   "cell_type": "code",
   "execution_count": 8,
   "metadata": {},
   "outputs": [],
   "source": [
    "from calc_utils import daily_attibution, monthly_attribution, cummulative_attribution, project_buffer_credits"
   ]
  },
  {
   "cell_type": "code",
   "execution_count": 9,
   "metadata": {},
   "outputs": [],
   "source": [
    "attribution = daily_attibution(daily_score, value_lands, obs_expanded, crs=6262)\n",
    "attr_month = monthly_attribution(attribution)"
   ]
  },
  {
   "cell_type": "code",
   "execution_count": 10,
   "metadata": {},
   "outputs": [],
   "source": [
    "import calc_utils\n",
    "# reload calc_utils module\n",
    "import importlib\n",
    "importlib.reload(calc_utils)\n",
    "from calc_utils import project_buffer_areas, daily_attibution, monthly_attribution, project_buffer_credits\n",
    "pbc_buffer, pbc_union = project_buffer_areas(lands)\n"
   ]
  },
  {
   "cell_type": "code",
   "execution_count": 11,
   "metadata": {},
   "outputs": [
    {
     "data": {
      "text/plain": [
       "<Axes: >"
      ]
     },
     "execution_count": 11,
     "metadata": {},
     "output_type": "execute_result"
    },
    {
     "data": {
      "image/png": "[encoded data removed]",
      "text/plain": [
       "<Figure size 640x480 with 1 Axes>"
      ]
     },
     "metadata": {},
     "output_type": "display_data"
    },
    {
     "data": {
      "image/png": "[encoded data removed]",
      "text/plain": [
       "<Figure size 640x480 with 1 Axes>"
      ]
     },
     "metadata": {},
     "output_type": "display_data"
    }
   ],
   "source": [
    "pbc_buffer.plot()\n",
    "pbc_union.plot()"
   ]
  },
  {
   "cell_type": "code",
   "execution_count": 12,
   "metadata": {},
   "outputs": [],
   "source": [
    "project_credits = project_buffer_credits(pbc_buffer, pbc_union, daily_score, obs_expanded)"
   ]
  },
  {
   "cell_type": "code",
   "execution_count": 18,
   "metadata": {},
   "outputs": [
    {
     "data": {
      "text/plain": [
       "array([-76.89036184,   0.72136911, -76.47000667,   1.2882548 ])"
      ]
     },
     "execution_count": 18,
     "metadata": {},
     "output_type": "execute_result"
    }
   ],
   "source": [
    "pbc_buffer.query('plot_id == \"2\"').total_bounds"
   ]
  },
  {
   "cell_type": "code",
   "execution_count": 90,
   "metadata": {},
   "outputs": [
    {
     "data": {
      "application/vnd.plotly.v1+json": {
       "config": {
        "plotlyServerURL": "https://plot.ly"
       },
       "data": [
        {
         "line": {
          "color": "blue",
          "width": 2
         },
         "name": "Union Credits",
         "type": "scatter",
         "x": [
          "2015-06-30T00:00:00",
          "2015-07-31T00:00:00",
          "2015-08-31T00:00:00",
          "2015-09-30T00:00:00",
          "2015-10-31T00:00:00",
          "2015-11-30T00:00:00",
          "2015-12-31T00:00:00",
          "2016-01-31T00:00:00",
          "2016-02-29T00:00:00",
          "2016-03-31T00:00:00",
          "2016-04-30T00:00:00",
          "2016-05-31T00:00:00",
          "2016-06-30T00:00:00",
          "2016-07-31T00:00:00",
          "2016-08-31T00:00:00",
          "2016-09-30T00:00:00",
          "2016-10-31T00:00:00",
          "2016-11-30T00:00:00",
          "2016-12-31T00:00:00",
          "2017-01-31T00:00:00",
          "2017-02-28T00:00:00",
          "2017-03-31T00:00:00",
          "2017-04-30T00:00:00",
          "2017-05-31T00:00:00",
          "2017-06-30T00:00:00",
          "2017-07-31T00:00:00",
          "2017-08-31T00:00:00",
          "2017-09-30T00:00:00",
          "2017-10-31T00:00:00",
          "2017-11-30T00:00:00",
          "2017-12-31T00:00:00",
          "2018-01-31T00:00:00",
          "2018-02-28T00:00:00",
          "2018-03-31T00:00:00",
          "2018-04-30T00:00:00",
          "2018-05-31T00:00:00",
          "2018-06-30T00:00:00",
          "2018-07-31T00:00:00",
          "2018-08-31T00:00:00",
          "2018-09-30T00:00:00",
          "2018-10-31T00:00:00",
          "2018-11-30T00:00:00",
          "2018-12-31T00:00:00",
          "2019-01-31T00:00:00",
          "2019-02-28T00:00:00",
          "2019-03-31T00:00:00",
          "2019-04-30T00:00:00",
          "2019-05-31T00:00:00",
          "2019-06-30T00:00:00",
          "2019-07-31T00:00:00",
          "2019-08-31T00:00:00",
          "2019-09-30T00:00:00",
          "2019-10-31T00:00:00",
          "2019-11-30T00:00:00",
          "2019-12-31T00:00:00",
          "2020-01-31T00:00:00",
          "2020-02-29T00:00:00",
          "2020-03-31T00:00:00",
          "2020-04-30T00:00:00",
          "2020-05-31T00:00:00",
          "2020-06-30T00:00:00",
          "2020-07-31T00:00:00",
          "2020-08-31T00:00:00",
          "2020-09-30T00:00:00",
          "2020-10-31T00:00:00",
          "2020-11-30T00:00:00",
          "2020-12-31T00:00:00",
          "2021-01-31T00:00:00",
          "2021-02-28T00:00:00",
          "2021-03-31T00:00:00",
          "2021-04-30T00:00:00",
          "2021-05-31T00:00:00",
          "2021-06-30T00:00:00",
          "2021-07-31T00:00:00",
          "2021-08-31T00:00:00",
          "2021-09-30T00:00:00",
          "2021-10-31T00:00:00",
          "2021-11-30T00:00:00",
          "2021-12-31T00:00:00",
          "2022-01-31T00:00:00",
          "2022-02-28T00:00:00",
          "2022-03-31T00:00:00",
          "2022-04-30T00:00:00",
          "2022-05-31T00:00:00",
          "2022-06-30T00:00:00",
          "2022-07-31T00:00:00",
          "2022-08-31T00:00:00",
          "2022-09-30T00:00:00",
          "2022-10-31T00:00:00",
          "2022-11-30T00:00:00",
          "2022-12-31T00:00:00",
          "2023-01-31T00:00:00",
          "2023-02-28T00:00:00",
          "2023-03-31T00:00:00",
          "2023-04-30T00:00:00",
          "2023-05-31T00:00:00",
          "2023-06-30T00:00:00",
          "2023-07-31T00:00:00",
          "2023-08-31T00:00:00",
          "2023-09-30T00:00:00",
          "2023-10-31T00:00:00",
          "2023-11-30T00:00:00",
          "2023-12-31T00:00:00",
          "2024-01-31T00:00:00",
          "2024-02-29T00:00:00",
          "2024-03-31T00:00:00",
          "2024-04-30T00:00:00",
          "2024-05-31T00:00:00",
          "2024-06-30T00:00:00",
          "2024-07-31T00:00:00",
          "2024-08-31T00:00:00",
          "2024-09-30T00:00:00",
          "2024-10-31T00:00:00",
          "2024-11-30T00:00:00",
          "2024-12-31T00:00:00",
          "2025-01-31T00:00:00"
         ],
         "y": [
          406.1006334910636,
          839.2746425481981,
          379.0272579249927,
          0,
          0,
          0,
          7.24796015067609,
          224.68676467095878,
          202.94288421893052,
          0,
          0,
          0,
          0,
          0,
          941.595319498581,
          1461.787685913089,
          1413.061429715986,
          0,
          0,
          0,
          0,
          0,
          0,
          0,
          0,
          0,
          0,
          0,
          0,
          0,
          0,
          0,
          0,
          0,
          0,
          0,
          0,
          0,
          0,
          0,
          0,
          0,
          1203.601068725219,
          1491.2530374144276,
          1346.9382273420622,
          48.104936690786346,
          0,
          0,
          0,
          65.17589063145388,
          224.49473439723002,
          144.83531251434198,
          725.0230658362898,
          1279.4524691228644,
          1386.8781046822796,
          1440.224050500386,
          1282.5291499009554,
          85.29683127485762,
          0,
          0,
          0,
          0,
          0,
          0,
          0,
          0,
          0,
          0,
          0,
          0,
          0,
          0,
          0,
          0,
          0,
          0,
          0,
          0,
          0,
          0,
          0,
          0,
          0,
          0,
          0,
          0,
          65.23164135608481,
          217.4388045202827,
          1201.8365283352216,
          1439.5031088458325,
          1471.4814818350637,
          1487.4865458073605,
          1105.0775081661552,
          1538.3382531768614,
          1504.5635995440236,
          1583.9664777851822,
          1997.4538240105821,
          1994.5405652697198,
          1602.026772792705,
          1443.0739709477102,
          1511.1533260505018,
          1543.0907925711901,
          1594.5271523235633,
          1594.5271523235633,
          1491.6544328188172,
          1489.4473140918537,
          1449.6458108849088,
          1506.8112534147683,
          1923.4326290367844,
          2051.4123442746277,
          2051.4123442746277,
          1858.1215219747726,
          1829.2131067466128,
          1969.9877965533417,
          1769.4695281515337,
          203.07355096770553
         ]
        },
        {
         "line": {
          "color": "green",
          "width": 2
         },
         "name": "Buffer Credits",
         "type": "scatter",
         "x": [
          "2015-06-30T00:00:00",
          "2015-07-31T00:00:00",
          "2015-08-31T00:00:00",
          "2015-09-30T00:00:00",
          "2015-10-31T00:00:00",
          "2015-11-30T00:00:00",
          "2015-12-31T00:00:00",
          "2016-01-31T00:00:00",
          "2016-02-29T00:00:00",
          "2016-03-31T00:00:00",
          "2016-04-30T00:00:00",
          "2016-05-31T00:00:00",
          "2016-06-30T00:00:00",
          "2016-07-31T00:00:00",
          "2016-08-31T00:00:00",
          "2016-09-30T00:00:00",
          "2016-10-31T00:00:00",
          "2016-11-30T00:00:00",
          "2016-12-31T00:00:00",
          "2017-01-31T00:00:00",
          "2017-02-28T00:00:00",
          "2017-03-31T00:00:00",
          "2017-04-30T00:00:00",
          "2017-05-31T00:00:00",
          "2017-06-30T00:00:00",
          "2017-07-31T00:00:00",
          "2017-08-31T00:00:00",
          "2017-09-30T00:00:00",
          "2017-10-31T00:00:00",
          "2017-11-30T00:00:00",
          "2017-12-31T00:00:00",
          "2018-01-31T00:00:00",
          "2018-02-28T00:00:00",
          "2018-03-31T00:00:00",
          "2018-04-30T00:00:00",
          "2018-05-31T00:00:00",
          "2018-06-30T00:00:00",
          "2018-07-31T00:00:00",
          "2018-08-31T00:00:00",
          "2018-09-30T00:00:00",
          "2018-10-31T00:00:00",
          "2018-11-30T00:00:00",
          "2018-12-31T00:00:00",
          "2019-01-31T00:00:00",
          "2019-02-28T00:00:00",
          "2019-03-31T00:00:00",
          "2019-04-30T00:00:00",
          "2019-05-31T00:00:00",
          "2019-06-30T00:00:00",
          "2019-07-31T00:00:00",
          "2019-08-31T00:00:00",
          "2019-09-30T00:00:00",
          "2019-10-31T00:00:00",
          "2019-11-30T00:00:00",
          "2019-12-31T00:00:00",
          "2020-01-31T00:00:00",
          "2020-02-29T00:00:00",
          "2020-03-31T00:00:00",
          "2020-04-30T00:00:00",
          "2020-05-31T00:00:00",
          "2020-06-30T00:00:00",
          "2020-07-31T00:00:00",
          "2020-08-31T00:00:00",
          "2020-09-30T00:00:00",
          "2020-10-31T00:00:00",
          "2020-11-30T00:00:00",
          "2020-12-31T00:00:00",
          "2021-01-31T00:00:00",
          "2021-02-28T00:00:00",
          "2021-03-31T00:00:00",
          "2021-04-30T00:00:00",
          "2021-05-31T00:00:00",
          "2021-06-30T00:00:00",
          "2021-07-31T00:00:00",
          "2021-08-31T00:00:00",
          "2021-09-30T00:00:00",
          "2021-10-31T00:00:00",
          "2021-11-30T00:00:00",
          "2021-12-31T00:00:00",
          "2022-01-31T00:00:00",
          "2022-02-28T00:00:00",
          "2022-03-31T00:00:00",
          "2022-04-30T00:00:00",
          "2022-05-31T00:00:00",
          "2022-06-30T00:00:00",
          "2022-07-31T00:00:00",
          "2022-08-31T00:00:00",
          "2022-09-30T00:00:00",
          "2022-10-31T00:00:00",
          "2022-11-30T00:00:00",
          "2022-12-31T00:00:00",
          "2023-01-31T00:00:00",
          "2023-02-28T00:00:00",
          "2023-03-31T00:00:00",
          "2023-04-30T00:00:00",
          "2023-05-31T00:00:00",
          "2023-06-30T00:00:00",
          "2023-07-31T00:00:00",
          "2023-08-31T00:00:00",
          "2023-09-30T00:00:00",
          "2023-10-31T00:00:00",
          "2023-11-30T00:00:00",
          "2023-12-31T00:00:00",
          "2024-01-31T00:00:00",
          "2024-02-29T00:00:00",
          "2024-03-31T00:00:00",
          "2024-04-30T00:00:00",
          "2024-05-31T00:00:00",
          "2024-06-30T00:00:00",
          "2024-07-31T00:00:00",
          "2024-08-31T00:00:00",
          "2024-09-30T00:00:00",
          "2024-10-31T00:00:00",
          "2024-11-30T00:00:00",
          "2024-12-31T00:00:00",
          "2025-01-31T00:00:00"
         ],
         "y": [
          6415.242110228657,
          13258.16702780589,
          5987.5593028800795,
          0,
          0,
          0,
          15.363149355467183,
          476.25763001948263,
          430.1681819530811,
          0,
          0,
          0,
          0,
          0,
          10544.537426734043,
          18065.083795004026,
          15932.866901908083,
          0,
          0,
          0,
          0,
          0,
          0,
          0,
          0,
          0,
          0,
          0,
          0,
          0,
          0,
          0,
          0,
          0,
          0,
          0,
          0,
          0,
          0,
          0,
          0,
          0,
          15324.793440369647,
          21127.82975789859,
          14474.881404201447,
          489.3834214912348,
          0,
          0,
          0,
          138.1571380651123,
          475.8745866687202,
          307.0158623669162,
          8412.279023427798,
          14845.19827663729,
          17191.249720804903,
          18739.736541220445,
          15679.512466028862,
          989.6798851091526,
          0,
          0,
          0,
          0,
          0,
          0,
          0,
          0,
          0,
          0,
          0,
          0,
          0,
          0,
          0,
          0,
          0,
          0,
          0,
          0,
          0,
          0,
          0,
          0,
          0,
          0,
          0,
          0,
          138.26834419920462,
          460.8944806640155,
          12558.834650820143,
          19955.19375892594,
          20109.36733599183,
          20620.366884223473,
          13611.322052939262,
          18755.901047829273,
          17400.865324082166,
          15275.515854733541,
          31354.808436311538,
          37506.91367224772,
          26355.01128455607,
          19075.169604179955,
          16231.47860110847,
          22402.358409554647,
          24017.9298467625,
          26701.628751912456,
          24501.89355271606,
          18460.65597650004,
          16792.920775212657,
          17166.402709690738,
          29865.0267123751,
          31045.218727249507,
          29575.00652561034,
          26206.96127705061,
          26431.365724190433,
          31119.522991065358,
          24011.204368907685,
          1946.8798817774543
         ],
         "yaxis": "y2"
        }
       ],
       "layout": {
        "hovermode": "x unified",
        "plot_bgcolor": "rgba(240,240,240,0.5)",
        "showlegend": true,
        "template": {
         "data": {
          "bar": [
           {
            "error_x": {
             "color": "#2a3f5f"
            },
            "error_y": {
             "color": "#2a3f5f"
            },
            "marker": {
             "line": {
              "color": "#E5ECF6",
              "width": 0.5
             },
             "pattern": {
              "fillmode": "overlay",
              "size": 10,
              "solidity": 0.2
             }
            },
            "type": "bar"
           }
          ],
          "barpolar": [
           {
            "marker": {
             "line": {
              "color": "#E5ECF6",
              "width": 0.5
             },
             "pattern": {
              "fillmode": "overlay",
              "size": 10,
              "solidity": 0.2
             }
            },
            "type": "barpolar"
           }
          ],
          "carpet": [
           {
            "aaxis": {
             "endlinecolor": "#2a3f5f",
             "gridcolor": "white",
             "linecolor": "white",
             "minorgridcolor": "white",
             "startlinecolor": "#2a3f5f"
            },
            "baxis": {
             "endlinecolor": "#2a3f5f",
             "gridcolor": "white",
             "linecolor": "white",
             "minorgridcolor": "white",
             "startlinecolor": "#2a3f5f"
            },
            "type": "carpet"
           }
          ],
          "choropleth": [
           {
            "colorbar": {
             "outlinewidth": 0,
             "ticks": ""
            },
            "type": "choropleth"
           }
          ],
          "contour": [
           {
            "colorbar": {
             "outlinewidth": 0,
             "ticks": ""
            },
            "colorscale": [
             [
              0,
              "#0d0887"
             ],
             [
              0.1111111111111111,
              "#46039f"
             ],
             [
              0.2222222222222222,
              "#7201a8"
             ],
             [
              0.3333333333333333,
              "#9c179e"
             ],
             [
              0.4444444444444444,
              "#bd3786"
             ],
             [
              0.5555555555555556,
              "#d8576b"
             ],
             [
              0.6666666666666666,
              "#ed7953"
             ],
             [
              0.7777777777777778,
              "#fb9f3a"
             ],
             [
              0.8888888888888888,
              "#fdca26"
             ],
             [
              1,
              "#f0f921"
             ]
            ],
            "type": "contour"
           }
          ],
          "contourcarpet": [
           {
            "colorbar": {
             "outlinewidth": 0,
             "ticks": ""
            },
            "type": "contourcarpet"
           }
          ],
          "heatmap": [
           {
            "colorbar": {
             "outlinewidth": 0,
             "ticks": ""
            },
            "colorscale": [
             [
              0,
              "#0d0887"
             ],
             [
              0.1111111111111111,
              "#46039f"
             ],
             [
              0.2222222222222222,
              "#7201a8"
             ],
             [
              0.3333333333333333,
              "#9c179e"
             ],
             [
              0.4444444444444444,
              "#bd3786"
             ],
             [
              0.5555555555555556,
              "#d8576b"
             ],
             [
              0.6666666666666666,
              "#ed7953"
             ],
             [
              0.7777777777777778,
              "#fb9f3a"
             ],
             [
              0.8888888888888888,
              "#fdca26"
             ],
             [
              1,
              "#f0f921"
             ]
            ],
            "type": "heatmap"
           }
          ],
          "heatmapgl": [
           {
            "colorbar": {
             "outlinewidth": 0,
             "ticks": ""
            },
            "colorscale": [
             [
              0,
              "#0d0887"
             ],
             [
              0.1111111111111111,
              "#46039f"
             ],
             [
              0.2222222222222222,
              "#7201a8"
             ],
             [
              0.3333333333333333,
              "#9c179e"
             ],
             [
              0.4444444444444444,
              "#bd3786"
             ],
             [
              0.5555555555555556,
              "#d8576b"
             ],
             [
              0.6666666666666666,
              "#ed7953"
             ],
             [
              0.7777777777777778,
              "#fb9f3a"
             ],
             [
              0.8888888888888888,
              "#fdca26"
             ],
             [
              1,
              "#f0f921"
             ]
            ],
            "type": "heatmapgl"
           }
          ],
          "histogram": [
           {
            "marker": {
             "pattern": {
              "fillmode": "overlay",
              "size": 10,
              "solidity": 0.2
             }
            },
            "type": "histogram"
           }
          ],
          "histogram2d": [
           {
            "colorbar": {
             "outlinewidth": 0,
             "ticks": ""
            },
            "colorscale": [
             [
              0,
              "#0d0887"
             ],
             [
              0.1111111111111111,
              "#46039f"
             ],
             [
              0.2222222222222222,
              "#7201a8"
             ],
             [
              0.3333333333333333,
              "#9c179e"
             ],
             [
              0.4444444444444444,
              "#bd3786"
             ],
             [
              0.5555555555555556,
              "#d8576b"
             ],
             [
              0.6666666666666666,
              "#ed7953"
             ],
             [
              0.7777777777777778,
              "#fb9f3a"
             ],
             [
              0.8888888888888888,
              "#fdca26"
             ],
             [
              1,
              "#f0f921"
             ]
            ],
            "type": "histogram2d"
           }
          ],
          "histogram2dcontour": [
           {
            "colorbar": {
             "outlinewidth": 0,
             "ticks": ""
            },
            "colorscale": [
             [
              0,
              "#0d0887"
             ],
             [
              0.1111111111111111,
              "#46039f"
             ],
             [
              0.2222222222222222,
              "#7201a8"
             ],
             [
              0.3333333333333333,
              "#9c179e"
             ],
             [
              0.4444444444444444,
              "#bd3786"
             ],
             [
              0.5555555555555556,
              "#d8576b"
             ],
             [
              0.6666666666666666,
              "#ed7953"
             ],
             [
              0.7777777777777778,
              "#fb9f3a"
             ],
             [
              0.8888888888888888,
              "#fdca26"
             ],
             [
              1,
              "#f0f921"
             ]
            ],
            "type": "histogram2dcontour"
           }
          ],
          "mesh3d": [
           {
            "colorbar": {
             "outlinewidth": 0,
             "ticks": ""
            },
            "type": "mesh3d"
           }
          ],
          "parcoords": [
           {
            "line": {
             "colorbar": {
              "outlinewidth": 0,
              "ticks": ""
             }
            },
            "type": "parcoords"
           }
          ],
          "pie": [
           {
            "automargin": true,
            "type": "pie"
           }
          ],
          "scatter": [
           {
            "fillpattern": {
             "fillmode": "overlay",
             "size": 10,
             "solidity": 0.2
            },
            "type": "scatter"
           }
          ],
          "scatter3d": [
           {
            "line": {
             "colorbar": {
              "outlinewidth": 0,
              "ticks": ""
             }
            },
            "marker": {
             "colorbar": {
              "outlinewidth": 0,
              "ticks": ""
             }
            },
            "type": "scatter3d"
           }
          ],
          "scattercarpet": [
           {
            "marker": {
             "colorbar": {
              "outlinewidth": 0,
              "ticks": ""
             }
            },
            "type": "scattercarpet"
           }
          ],
          "scattergeo": [
           {
            "marker": {
             "colorbar": {
              "outlinewidth": 0,
              "ticks": ""
             }
            },
            "type": "scattergeo"
           }
          ],
          "scattergl": [
           {
            "marker": {
             "colorbar": {
              "outlinewidth": 0,
              "ticks": ""
             }
            },
            "type": "scattergl"
           }
          ],
          "scattermapbox": [
           {
            "marker": {
             "colorbar": {
              "outlinewidth": 0,
              "ticks": ""
             }
            },
            "type": "scattermapbox"
           }
          ],
          "scatterpolar": [
           {
            "marker": {
             "colorbar": {
              "outlinewidth": 0,
              "ticks": ""
             }
            },
            "type": "scatterpolar"
           }
          ],
          "scatterpolargl": [
           {
            "marker": {
             "colorbar": {
              "outlinewidth": 0,
              "ticks": ""
             }
            },
            "type": "scatterpolargl"
           }
          ],
          "scatterternary": [
           {
            "marker": {
             "colorbar": {
              "outlinewidth": 0,
              "ticks": ""
             }
            },
            "type": "scatterternary"
           }
          ],
          "surface": [
           {
            "colorbar": {
             "outlinewidth": 0,
             "ticks": ""
            },
            "colorscale": [
             [
              0,
              "#0d0887"
             ],
             [
              0.1111111111111111,
              "#46039f"
             ],
             [
              0.2222222222222222,
              "#7201a8"
             ],
             [
              0.3333333333333333,
              "#9c179e"
             ],
             [
              0.4444444444444444,
              "#bd3786"
             ],
             [
              0.5555555555555556,
              "#d8576b"
             ],
             [
              0.6666666666666666,
              "#ed7953"
             ],
             [
              0.7777777777777778,
              "#fb9f3a"
             ],
             [
              0.8888888888888888,
              "#fdca26"
             ],
             [
              1,
              "#f0f921"
             ]
            ],
            "type": "surface"
           }
          ],
          "table": [
           {
            "cells": {
             "fill": {
              "color": "#EBF0F8"
             },
             "line": {
              "color": "white"
             }
            },
            "header": {
             "fill": {
              "color": "#C8D4E3"
             },
             "line": {
              "color": "white"
             }
            },
            "type": "table"
           }
          ]
         },
         "layout": {
          "annotationdefaults": {
           "arrowcolor": "#2a3f5f",
           "arrowhead": 0,
           "arrowwidth": 1
          },
          "autotypenumbers": "strict",
          "coloraxis": {
           "colorbar": {
            "outlinewidth": 0,
            "ticks": ""
           }
          },
          "colorscale": {
           "diverging": [
            [
             0,
             "#8e0152"
            ],
            [
             0.1,
             "#c51b7d"
            ],
            [
             0.2,
             "#de77ae"
            ],
            [
             0.3,
             "#f1b6da"
            ],
            [
             0.4,
             "#fde0ef"
            ],
            [
             0.5,
             "#f7f7f7"
            ],
            [
             0.6,
             "#e6f5d0"
            ],
            [
             0.7,
             "#b8e186"
            ],
            [
             0.8,
             "#7fbc41"
            ],
            [
             0.9,
             "#4d9221"
            ],
            [
             1,
             "#276419"
            ]
           ],
           "sequential": [
            [
             0,
             "#0d0887"
            ],
            [
             0.1111111111111111,
             "#46039f"
            ],
            [
             0.2222222222222222,
             "#7201a8"
            ],
            [
             0.3333333333333333,
             "#9c179e"
            ],
            [
             0.4444444444444444,
             "#bd3786"
            ],
            [
             0.5555555555555556,
             "#d8576b"
            ],
            [
             0.6666666666666666,
             "#ed7953"
            ],
            [
             0.7777777777777778,
             "#fb9f3a"
            ],
            [
             0.8888888888888888,
             "#fdca26"
            ],
            [
             1,
             "#f0f921"
            ]
           ],
           "sequentialminus": [
            [
             0,
             "#0d0887"
            ],
            [
             0.1111111111111111,
             "#46039f"
            ],
            [
             0.2222222222222222,
             "#7201a8"
            ],
            [
             0.3333333333333333,
             "#9c179e"
            ],
            [
             0.4444444444444444,
             "#bd3786"
            ],
            [
             0.5555555555555556,
             "#d8576b"
            ],
            [
             0.6666666666666666,
             "#ed7953"
            ],
            [
             0.7777777777777778,
             "#fb9f3a"
            ],
            [
             0.8888888888888888,
             "#fdca26"
            ],
            [
             1,
             "#f0f921"
            ]
           ]
          },
          "colorway": [
           "#636efa",
           "#EF553B",
           "#00cc96",
           "#ab63fa",
           "#FFA15A",
           "#19d3f3",
           "#FF6692",
           "#B6E880",
           "#FF97FF",
           "#FECB52"
          ],
          "font": {
           "color": "#2a3f5f"
          },
          "geo": {
           "bgcolor": "white",
           "lakecolor": "white",
           "landcolor": "#E5ECF6",
           "showlakes": true,
           "showland": true,
           "subunitcolor": "white"
          },
          "hoverlabel": {
           "align": "left"
          },
          "hovermode": "closest",
          "mapbox": {
           "style": "light"
          },
          "paper_bgcolor": "white",
          "plot_bgcolor": "#E5ECF6",
          "polar": {
           "angularaxis": {
            "gridcolor": "white",
            "linecolor": "white",
            "ticks": ""
           },
           "bgcolor": "#E5ECF6",
           "radialaxis": {
            "gridcolor": "white",
            "linecolor": "white",
            "ticks": ""
           }
          },
          "scene": {
           "xaxis": {
            "backgroundcolor": "#E5ECF6",
            "gridcolor": "white",
            "gridwidth": 2,
            "linecolor": "white",
            "showbackground": true,
            "ticks": "",
            "zerolinecolor": "white"
           },
           "yaxis": {
            "backgroundcolor": "#E5ECF6",
            "gridcolor": "white",
            "gridwidth": 2,
            "linecolor": "white",
            "showbackground": true,
            "ticks": "",
            "zerolinecolor": "white"
           },
           "zaxis": {
            "backgroundcolor": "#E5ECF6",
            "gridcolor": "white",
            "gridwidth": 2,
            "linecolor": "white",
            "showbackground": true,
            "ticks": "",
            "zerolinecolor": "white"
           }
          },
          "shapedefaults": {
           "line": {
            "color": "#2a3f5f"
           }
          },
          "ternary": {
           "aaxis": {
            "gridcolor": "white",
            "linecolor": "white",
            "ticks": ""
           },
           "baxis": {
            "gridcolor": "white",
            "linecolor": "white",
            "ticks": ""
           },
           "bgcolor": "#E5ECF6",
           "caxis": {
            "gridcolor": "white",
            "linecolor": "white",
            "ticks": ""
           }
          },
          "title": {
           "x": 0.05
          },
          "xaxis": {
           "automargin": true,
           "gridcolor": "white",
           "linecolor": "white",
           "ticks": "",
           "title": {
            "standoff": 15
           },
           "zerolinecolor": "white",
           "zerolinewidth": 2
          },
          "yaxis": {
           "automargin": true,
           "gridcolor": "white",
           "linecolor": "white",
           "ticks": "",
           "title": {
            "standoff": 15
           },
           "zerolinecolor": "white",
           "zerolinewidth": 2
          }
         }
        },
        "title": {
         "text": "Credits Evolution - project_id 2"
        },
        "xaxis": {
         "gridcolor": "white",
         "showgrid": true,
         "title": {
          "text": "Date"
         }
        },
        "yaxis": {
         "gridcolor": "white",
         "showgrid": true,
         "side": "left",
         "tickfont": {
          "color": "blue"
         },
         "title": {
          "font": {
           "color": "blue"
          },
          "text": "Union Credits"
         }
        },
        "yaxis2": {
         "overlaying": "y",
         "showgrid": false,
         "side": "right",
         "tickfont": {
          "color": "green"
         },
         "title": {
          "font": {
           "color": "green"
          },
          "text": "Buffer Credits"
         }
        }
       }
      }
     },
     "metadata": {},
     "output_type": "display_data"
    },
    {
     "data": {
      "application/vnd.plotly.v1+json": {
       "config": {
        "plotlyServerURL": "https://plot.ly"
       },
       "data": [
        {
         "marker": {
          "color": "red"
         },
         "name": "Buffer/Union Ratio",
         "type": "bar",
         "x": [
          "2015-06-30T00:00:00",
          "2015-07-31T00:00:00",
          "2015-08-31T00:00:00",
          "2015-09-30T00:00:00",
          "2015-10-31T00:00:00",
          "2015-11-30T00:00:00",
          "2015-12-31T00:00:00",
          "2016-01-31T00:00:00",
          "2016-02-29T00:00:00",
          "2016-03-31T00:00:00",
          "2016-04-30T00:00:00",
          "2016-05-31T00:00:00",
          "2016-06-30T00:00:00",
          "2016-07-31T00:00:00",
          "2016-08-31T00:00:00",
          "2016-09-30T00:00:00",
          "2016-10-31T00:00:00",
          "2016-11-30T00:00:00",
          "2016-12-31T00:00:00",
          "2017-01-31T00:00:00",
          "2017-02-28T00:00:00",
          "2017-03-31T00:00:00",
          "2017-04-30T00:00:00",
          "2017-05-31T00:00:00",
          "2017-06-30T00:00:00",
          "2017-07-31T00:00:00",
          "2017-08-31T00:00:00",
          "2017-09-30T00:00:00",
          "2017-10-31T00:00:00",
          "2017-11-30T00:00:00",
          "2017-12-31T00:00:00",
          "2018-01-31T00:00:00",
          "2018-02-28T00:00:00",
          "2018-03-31T00:00:00",
          "2018-04-30T00:00:00",
          "2018-05-31T00:00:00",
          "2018-06-30T00:00:00",
          "2018-07-31T00:00:00",
          "2018-08-31T00:00:00",
          "2018-09-30T00:00:00",
          "2018-10-31T00:00:00",
          "2018-11-30T00:00:00",
          "2018-12-31T00:00:00",
          "2019-01-31T00:00:00",
          "2019-02-28T00:00:00",
          "2019-03-31T00:00:00",
          "2019-04-30T00:00:00",
          "2019-05-31T00:00:00",
          "2019-06-30T00:00:00",
          "2019-07-31T00:00:00",
          "2019-08-31T00:00:00",
          "2019-09-30T00:00:00",
          "2019-10-31T00:00:00",
          "2019-11-30T00:00:00",
          "2019-12-31T00:00:00",
          "2020-01-31T00:00:00",
          "2020-02-29T00:00:00",
          "2020-03-31T00:00:00",
          "2020-04-30T00:00:00",
          "2020-05-31T00:00:00",
          "2020-06-30T00:00:00",
          "2020-07-31T00:00:00",
          "2020-08-31T00:00:00",
          "2020-09-30T00:00:00",
          "2020-10-31T00:00:00",
          "2020-11-30T00:00:00",
          "2020-12-31T00:00:00",
          "2021-01-31T00:00:00",
          "2021-02-28T00:00:00",
          "2021-03-31T00:00:00",
          "2021-04-30T00:00:00",
          "2021-05-31T00:00:00",
          "2021-06-30T00:00:00",
          "2021-07-31T00:00:00",
          "2021-08-31T00:00:00",
          "2021-09-30T00:00:00",
          "2021-10-31T00:00:00",
          "2021-11-30T00:00:00",
          "2021-12-31T00:00:00",
          "2022-01-31T00:00:00",
          "2022-02-28T00:00:00",
          "2022-03-31T00:00:00",
          "2022-04-30T00:00:00",
          "2022-05-31T00:00:00",
          "2022-06-30T00:00:00",
          "2022-07-31T00:00:00",
          "2022-08-31T00:00:00",
          "2022-09-30T00:00:00",
          "2022-10-31T00:00:00",
          "2022-11-30T00:00:00",
          "2022-12-31T00:00:00",
          "2023-01-31T00:00:00",
          "2023-02-28T00:00:00",
          "2023-03-31T00:00:00",
          "2023-04-30T00:00:00",
          "2023-05-31T00:00:00",
          "2023-06-30T00:00:00",
          "2023-07-31T00:00:00",
          "2023-08-31T00:00:00",
          "2023-09-30T00:00:00",
          "2023-10-31T00:00:00",
          "2023-11-30T00:00:00",
          "2023-12-31T00:00:00",
          "2024-01-31T00:00:00",
          "2024-02-29T00:00:00",
          "2024-03-31T00:00:00",
          "2024-04-30T00:00:00",
          "2024-05-31T00:00:00",
          "2024-06-30T00:00:00",
          "2024-07-31T00:00:00",
          "2024-08-31T00:00:00",
          "2024-09-30T00:00:00",
          "2024-10-31T00:00:00",
          "2024-11-30T00:00:00",
          "2024-12-31T00:00:00",
          "2025-01-31T00:00:00"
         ],
         "y": [
          15.797173363360013,
          15.797173363360011,
          15.797173363360011,
          0,
          0,
          0,
          2.119651465527733,
          2.119651465527733,
          2.119651465527733,
          0,
          0,
          0,
          0,
          0,
          11.19858734254247,
          12.358213144831547,
          11.275424101774869,
          0,
          0,
          0,
          0,
          0,
          0,
          0,
          0,
          0,
          0,
          0,
          0,
          0,
          0,
          0,
          0,
          0,
          0,
          0,
          0,
          0,
          0,
          0,
          0,
          0,
          12.732452503220802,
          14.16783686458105,
          10.746507234236715,
          10.173247386997758,
          0,
          0,
          0,
          2.119758345096364,
          2.1197583450963644,
          2.119758345096364,
          11.602774338943984,
          11.602774338943982,
          12.395645776485347,
          13.01168143575271,
          12.22546284210361,
          11.602774338943982,
          0,
          0,
          0,
          0,
          0,
          0,
          0,
          0,
          0,
          0,
          0,
          0,
          0,
          0,
          0,
          0,
          0,
          0,
          0,
          0,
          0,
          0,
          0,
          0,
          0,
          0,
          0,
          0,
          2.1196514655277325,
          2.119651465527733,
          10.449702896130626,
          13.862556903350944,
          13.666068913700308,
          13.862556903350942,
          12.317074551202174,
          12.19231271737278,
          11.565390342658636,
          9.643837839354331,
          15.697388374844067,
          18.804788594096955,
          16.45104297390309,
          13.218428152822073,
          10.741119594747214,
          14.51784853970031,
          15.06272866646598,
          16.745797469176072,
          16.425985143498828,
          12.394299416865158,
          11.584154314881742,
          11.392536836174978,
          15.526941917030332,
          15.133582877130921,
          14.416899950978875,
          14.10400825086962,
          14.449582515402222,
          15.79681003380405,
          13.569719052461362,
          9.587067702810119
         ]
        }
       ],
       "layout": {
        "plot_bgcolor": "rgba(240,240,240,0.5)",
        "showlegend": true,
        "template": {
         "data": {
          "bar": [
           {
            "error_x": {
             "color": "#2a3f5f"
            },
            "error_y": {
             "color": "#2a3f5f"
            },
            "marker": {
             "line": {
              "color": "#E5ECF6",
              "width": 0.5
             },
             "pattern": {
              "fillmode": "overlay",
              "size": 10,
              "solidity": 0.2
             }
            },
            "type": "bar"
           }
          ],
          "barpolar": [
           {
            "marker": {
             "line": {
              "color": "#E5ECF6",
              "width": 0.5
             },
             "pattern": {
              "fillmode": "overlay",
              "size": 10,
              "solidity": 0.2
             }
            },
            "type": "barpolar"
           }
          ],
          "carpet": [
           {
            "aaxis": {
             "endlinecolor": "#2a3f5f",
             "gridcolor": "white",
             "linecolor": "white",
             "minorgridcolor": "white",
             "startlinecolor": "#2a3f5f"
            },
            "baxis": {
             "endlinecolor": "#2a3f5f",
             "gridcolor": "white",
             "linecolor": "white",
             "minorgridcolor": "white",
             "startlinecolor": "#2a3f5f"
            },
            "type": "carpet"
           }
          ],
          "choropleth": [
           {
            "colorbar": {
             "outlinewidth": 0,
             "ticks": ""
            },
            "type": "choropleth"
           }
          ],
          "contour": [
           {
            "colorbar": {
             "outlinewidth": 0,
             "ticks": ""
            },
            "colorscale": [
             [
              0,
              "#0d0887"
             ],
             [
              0.1111111111111111,
              "#46039f"
             ],
             [
              0.2222222222222222,
              "#7201a8"
             ],
             [
              0.3333333333333333,
              "#9c179e"
             ],
             [
              0.4444444444444444,
              "#bd3786"
             ],
             [
              0.5555555555555556,
              "#d8576b"
             ],
             [
              0.6666666666666666,
              "#ed7953"
             ],
             [
              0.7777777777777778,
              "#fb9f3a"
             ],
             [
              0.8888888888888888,
              "#fdca26"
             ],
             [
              1,
              "#f0f921"
             ]
            ],
            "type": "contour"
           }
          ],
          "contourcarpet": [
           {
            "colorbar": {
             "outlinewidth": 0,
             "ticks": ""
            },
            "type": "contourcarpet"
           }
          ],
          "heatmap": [
           {
            "colorbar": {
             "outlinewidth": 0,
             "ticks": ""
            },
            "colorscale": [
             [
              0,
              "#0d0887"
             ],
             [
              0.1111111111111111,
              "#46039f"
             ],
             [
              0.2222222222222222,
              "#7201a8"
             ],
             [
              0.3333333333333333,
              "#9c179e"
             ],
             [
              0.4444444444444444,
              "#bd3786"
             ],
             [
              0.5555555555555556,
              "#d8576b"
             ],
             [
              0.6666666666666666,
              "#ed7953"
             ],
             [
              0.7777777777777778,
              "#fb9f3a"
             ],
             [
              0.8888888888888888,
              "#fdca26"
             ],
             [
              1,
              "#f0f921"
             ]
            ],
            "type": "heatmap"
           }
          ],
          "heatmapgl": [
           {
            "colorbar": {
             "outlinewidth": 0,
             "ticks": ""
            },
            "colorscale": [
             [
              0,
              "#0d0887"
             ],
             [
              0.1111111111111111,
              "#46039f"
             ],
             [
              0.2222222222222222,
              "#7201a8"
             ],
             [
              0.3333333333333333,
              "#9c179e"
             ],
             [
              0.4444444444444444,
              "#bd3786"
             ],
             [
              0.5555555555555556,
              "#d8576b"
             ],
             [
              0.6666666666666666,
              "#ed7953"
             ],
             [
              0.7777777777777778,
              "#fb9f3a"
             ],
             [
              0.8888888888888888,
              "#fdca26"
             ],
             [
              1,
              "#f0f921"
             ]
            ],
            "type": "heatmapgl"
           }
          ],
          "histogram": [
           {
            "marker": {
             "pattern": {
              "fillmode": "overlay",
              "size": 10,
              "solidity": 0.2
             }
            },
            "type": "histogram"
           }
          ],
          "histogram2d": [
           {
            "colorbar": {
             "outlinewidth": 0,
             "ticks": ""
            },
            "colorscale": [
             [
              0,
              "#0d0887"
             ],
             [
              0.1111111111111111,
              "#46039f"
             ],
             [
              0.2222222222222222,
              "#7201a8"
             ],
             [
              0.3333333333333333,
              "#9c179e"
             ],
             [
              0.4444444444444444,
              "#bd3786"
             ],
             [
              0.5555555555555556,
              "#d8576b"
             ],
             [
              0.6666666666666666,
              "#ed7953"
             ],
             [
              0.7777777777777778,
              "#fb9f3a"
             ],
             [
              0.8888888888888888,
              "#fdca26"
             ],
             [
              1,
              "#f0f921"
             ]
            ],
            "type": "histogram2d"
           }
          ],
          "histogram2dcontour": [
           {
            "colorbar": {
             "outlinewidth": 0,
             "ticks": ""
            },
            "colorscale": [
             [
              0,
              "#0d0887"
             ],
             [
              0.1111111111111111,
              "#46039f"
             ],
             [
              0.2222222222222222,
              "#7201a8"
             ],
             [
              0.3333333333333333,
              "#9c179e"
             ],
             [
              0.4444444444444444,
              "#bd3786"
             ],
             [
              0.5555555555555556,
              "#d8576b"
             ],
             [
              0.6666666666666666,
              "#ed7953"
             ],
             [
              0.7777777777777778,
              "#fb9f3a"
             ],
             [
              0.8888888888888888,
              "#fdca26"
             ],
             [
              1,
              "#f0f921"
             ]
            ],
            "type": "histogram2dcontour"
           }
          ],
          "mesh3d": [
           {
            "colorbar": {
             "outlinewidth": 0,
             "ticks": ""
            },
            "type": "mesh3d"
           }
          ],
          "parcoords": [
           {
            "line": {
             "colorbar": {
              "outlinewidth": 0,
              "ticks": ""
             }
            },
            "type": "parcoords"
           }
          ],
          "pie": [
           {
            "automargin": true,
            "type": "pie"
           }
          ],
          "scatter": [
           {
            "fillpattern": {
             "fillmode": "overlay",
             "size": 10,
             "solidity": 0.2
            },
            "type": "scatter"
           }
          ],
          "scatter3d": [
           {
            "line": {
             "colorbar": {
              "outlinewidth": 0,
              "ticks": ""
             }
            },
            "marker": {
             "colorbar": {
              "outlinewidth": 0,
              "ticks": ""
             }
            },
            "type": "scatter3d"
           }
          ],
          "scattercarpet": [
           {
            "marker": {
             "colorbar": {
              "outlinewidth": 0,
              "ticks": ""
             }
            },
            "type": "scattercarpet"
           }
          ],
          "scattergeo": [
           {
            "marker": {
             "colorbar": {
              "outlinewidth": 0,
              "ticks": ""
             }
            },
            "type": "scattergeo"
           }
          ],
          "scattergl": [
           {
            "marker": {
             "colorbar": {
              "outlinewidth": 0,
              "ticks": ""
             }
            },
            "type": "scattergl"
           }
          ],
          "scattermapbox": [
           {
            "marker": {
             "colorbar": {
              "outlinewidth": 0,
              "ticks": ""
             }
            },
            "type": "scattermapbox"
           }
          ],
          "scatterpolar": [
           {
            "marker": {
             "colorbar": {
              "outlinewidth": 0,
              "ticks": ""
             }
            },
            "type": "scatterpolar"
           }
          ],
          "scatterpolargl": [
           {
            "marker": {
             "colorbar": {
              "outlinewidth": 0,
              "ticks": ""
             }
            },
            "type": "scatterpolargl"
           }
          ],
          "scatterternary": [
           {
            "marker": {
             "colorbar": {
              "outlinewidth": 0,
              "ticks": ""
             }
            },
            "type": "scatterternary"
           }
          ],
          "surface": [
           {
            "colorbar": {
             "outlinewidth": 0,
             "ticks": ""
            },
            "colorscale": [
             [
              0,
              "#0d0887"
             ],
             [
              0.1111111111111111,
              "#46039f"
             ],
             [
              0.2222222222222222,
              "#7201a8"
             ],
             [
              0.3333333333333333,
              "#9c179e"
             ],
             [
              0.4444444444444444,
              "#bd3786"
             ],
             [
              0.5555555555555556,
              "#d8576b"
             ],
             [
              0.6666666666666666,
              "#ed7953"
             ],
             [
              0.7777777777777778,
              "#fb9f3a"
             ],
             [
              0.8888888888888888,
              "#fdca26"
             ],
             [
              1,
              "#f0f921"
             ]
            ],
            "type": "surface"
           }
          ],
          "table": [
           {
            "cells": {
             "fill": {
              "color": "#EBF0F8"
             },
             "line": {
              "color": "white"
             }
            },
            "header": {
             "fill": {
              "color": "#C8D4E3"
             },
             "line": {
              "color": "white"
             }
            },
            "type": "table"
           }
          ]
         },
         "layout": {
          "annotationdefaults": {
           "arrowcolor": "#2a3f5f",
           "arrowhead": 0,
           "arrowwidth": 1
          },
          "autotypenumbers": "strict",
          "coloraxis": {
           "colorbar": {
            "outlinewidth": 0,
            "ticks": ""
           }
          },
          "colorscale": {
           "diverging": [
            [
             0,
             "#8e0152"
            ],
            [
             0.1,
             "#c51b7d"
            ],
            [
             0.2,
             "#de77ae"
            ],
            [
             0.3,
             "#f1b6da"
            ],
            [
             0.4,
             "#fde0ef"
            ],
            [
             0.5,
             "#f7f7f7"
            ],
            [
             0.6,
             "#e6f5d0"
            ],
            [
             0.7,
             "#b8e186"
            ],
            [
             0.8,
             "#7fbc41"
            ],
            [
             0.9,
             "#4d9221"
            ],
            [
             1,
             "#276419"
            ]
           ],
           "sequential": [
            [
             0,
             "#0d0887"
            ],
            [
             0.1111111111111111,
             "#46039f"
            ],
            [
             0.2222222222222222,
             "#7201a8"
            ],
            [
             0.3333333333333333,
             "#9c179e"
            ],
            [
             0.4444444444444444,
             "#bd3786"
            ],
            [
             0.5555555555555556,
             "#d8576b"
            ],
            [
             0.6666666666666666,
             "#ed7953"
            ],
            [
             0.7777777777777778,
             "#fb9f3a"
            ],
            [
             0.8888888888888888,
             "#fdca26"
            ],
            [
             1,
             "#f0f921"
            ]
           ],
           "sequentialminus": [
            [
             0,
             "#0d0887"
            ],
            [
             0.1111111111111111,
             "#46039f"
            ],
            [
             0.2222222222222222,
             "#7201a8"
            ],
            [
             0.3333333333333333,
             "#9c179e"
            ],
            [
             0.4444444444444444,
             "#bd3786"
            ],
            [
             0.5555555555555556,
             "#d8576b"
            ],
            [
             0.6666666666666666,
             "#ed7953"
            ],
            [
             0.7777777777777778,
             "#fb9f3a"
            ],
            [
             0.8888888888888888,
             "#fdca26"
            ],
            [
             1,
             "#f0f921"
            ]
           ]
          },
          "colorway": [
           "#636efa",
           "#EF553B",
           "#00cc96",
           "#ab63fa",
           "#FFA15A",
           "#19d3f3",
           "#FF6692",
           "#B6E880",
           "#FF97FF",
           "#FECB52"
          ],
          "font": {
           "color": "#2a3f5f"
          },
          "geo": {
           "bgcolor": "white",
           "lakecolor": "white",
           "landcolor": "#E5ECF6",
           "showlakes": true,
           "showland": true,
           "subunitcolor": "white"
          },
          "hoverlabel": {
           "align": "left"
          },
          "hovermode": "closest",
          "mapbox": {
           "style": "light"
          },
          "paper_bgcolor": "white",
          "plot_bgcolor": "#E5ECF6",
          "polar": {
           "angularaxis": {
            "gridcolor": "white",
            "linecolor": "white",
            "ticks": ""
           },
           "bgcolor": "#E5ECF6",
           "radialaxis": {
            "gridcolor": "white",
            "linecolor": "white",
            "ticks": ""
           }
          },
          "scene": {
           "xaxis": {
            "backgroundcolor": "#E5ECF6",
            "gridcolor": "white",
            "gridwidth": 2,
            "linecolor": "white",
            "showbackground": true,
            "ticks": "",
            "zerolinecolor": "white"
           },
           "yaxis": {
            "backgroundcolor": "#E5ECF6",
            "gridcolor": "white",
            "gridwidth": 2,
            "linecolor": "white",
            "showbackground": true,
            "ticks": "",
            "zerolinecolor": "white"
           },
           "zaxis": {
            "backgroundcolor": "#E5ECF6",
            "gridcolor": "white",
            "gridwidth": 2,
            "linecolor": "white",
            "showbackground": true,
            "ticks": "",
            "zerolinecolor": "white"
           }
          },
          "shapedefaults": {
           "line": {
            "color": "#2a3f5f"
           }
          },
          "ternary": {
           "aaxis": {
            "gridcolor": "white",
            "linecolor": "white",
            "ticks": ""
           },
           "baxis": {
            "gridcolor": "white",
            "linecolor": "white",
            "ticks": ""
           },
           "bgcolor": "#E5ECF6",
           "caxis": {
            "gridcolor": "white",
            "linecolor": "white",
            "ticks": ""
           }
          },
          "title": {
           "x": 0.05
          },
          "xaxis": {
           "automargin": true,
           "gridcolor": "white",
           "linecolor": "white",
           "ticks": "",
           "title": {
            "standoff": 15
           },
           "zerolinecolor": "white",
           "zerolinewidth": 2
          },
          "yaxis": {
           "automargin": true,
           "gridcolor": "white",
           "linecolor": "white",
           "ticks": "",
           "title": {
            "standoff": 15
           },
           "zerolinecolor": "white",
           "zerolinewidth": 2
          }
         }
        },
        "title": {
         "text": "Buffer/Union Ratio"
        },
        "xaxis": {
         "gridcolor": "white",
         "showgrid": true,
         "title": {
          "text": "Date"
         }
        },
        "yaxis": {
         "gridcolor": "white",
         "showgrid": true,
         "tickfont": {
          "color": "red"
         },
         "title": {
          "font": {
           "color": "red"
          },
          "text": "Buffer/Union Ratio"
         }
        }
       }
      }
     },
     "metadata": {},
     "output_type": "display_data"
    }
   ],
   "source": [
    "from calc_utils import plot_project_credits\n",
    "credits_fig, ratio_fig = plot_project_credits(project_credits, 2)\n",
    "credits_fig.show()\n",
    "ratio_fig.show()"
   ]
  },
  {
   "cell_type": "code",
   "execution_count": 14,
   "metadata": {},
   "outputs": [
    {
     "ename": "NameError",
     "evalue": "name 'project_credits' is not defined",
     "output_type": "error",
     "traceback": [
      "\u001b[0;31m---------------------------------------------------------------------------\u001b[0m",
      "\u001b[0;31mNameError\u001b[0m                                 Traceback (most recent call last)",
      "Cell \u001b[0;32mIn[14], line 3\u001b[0m\n\u001b[1;32m      1\u001b[0m \u001b[38;5;66;03m# scatter plot of project_credits union vs buffer\u001b[39;00m\n\u001b[1;32m      2\u001b[0m \u001b[38;5;28;01mimport\u001b[39;00m \u001b[38;5;21;01mplotly\u001b[39;00m\u001b[38;5;21;01m.\u001b[39;00m\u001b[38;5;21;01mexpress\u001b[39;00m \u001b[38;5;28;01mas\u001b[39;00m \u001b[38;5;21;01mpx\u001b[39;00m\n\u001b[0;32m----> 3\u001b[0m px\u001b[38;5;241m.\u001b[39mscatter(\u001b[43mproject_credits\u001b[49m, x\u001b[38;5;241m=\u001b[39m\u001b[38;5;124m'\u001b[39m\u001b[38;5;124munion\u001b[39m\u001b[38;5;124m'\u001b[39m, y\u001b[38;5;241m=\u001b[39m\u001b[38;5;124m'\u001b[39m\u001b[38;5;124mbuffer\u001b[39m\u001b[38;5;124m'\u001b[39m, color\u001b[38;5;241m=\u001b[39m\u001b[38;5;124m'\u001b[39m\u001b[38;5;124mproject_biodiversity\u001b[39m\u001b[38;5;124m'\u001b[39m)\n",
      "\u001b[0;31mNameError\u001b[0m: name 'project_credits' is not defined"
     ]
    }
   ],
   "source": [
    "# scatter plot of project_credits union vs buffer\n",
    "import plotly.express as px\n",
    "px.scatter(project_credits, x='union', y='buffer', color='project_biodiversity')\n"
   ]
  },
  {
   "cell_type": "code",
   "execution_count": null,
   "metadata": {},
   "outputs": [],
   "source": []
  }
 ],
 "metadata": {
  "kernelspec": {
   "display_name": "savimbo",
   "language": "python",
   "name": "python3"
  },
  "language_info": {
   "codemirror_mode": {
    "name": "ipython",
    "version": 3
   },
   "file_extension": ".py",
   "mimetype": "text/x-python",
   "name": "python",
   "nbconvert_exporter": "python",
   "pygments_lexer": "ipython3",
   "version": "3.10.12"
  }
 },
 "nbformat": 4,
 "nbformat_minor": 2
}
